{
 "cells": [
  {
   "cell_type": "markdown",
   "id": "photographic-garbage",
   "metadata": {},
   "source": [
    "## Import librerie e inizializzazione dello Spark Context"
   ]
  },
  {
   "cell_type": "code",
   "execution_count": 1,
   "id": "russian-blocking",
   "metadata": {},
   "outputs": [],
   "source": [
    "from pyspark.ml import Pipeline\n",
    "\n",
    "from pyspark.ml.classification import DecisionTreeClassifier, RandomForestClassifier, LinearSVC\n",
    "from pyspark.mllib.tree import DecisionTree as DT\n",
    "from pyspark.mllib.tree import DecisionTreeModel, LabeledPoint\n",
    "\n",
    "from pyspark.ml.feature import IndexToString, StringIndexer, VectorIndexer\n",
    "from pyspark.ml.feature import MinMaxScaler\n",
    "from pyspark.ml.feature import VectorAssembler\n",
    "\n",
    "from pyspark.ml.evaluation import MulticlassClassificationEvaluator\n",
    "from pyspark.ml.evaluation import BinaryClassificationEvaluator\n",
    "from pyspark.mllib.evaluation import BinaryClassificationMetrics\n",
    "from pyspark.ml.tuning import ParamGridBuilder, CrossValidator\n",
    "\n",
    "from pyspark.sql import SparkSession\n",
    "from pyspark.sql.functions import udf\n",
    "from pyspark.sql import Row\n",
    "\n",
    "from pyspark.sql.types import IntegerType\n",
    "\n",
    "import os\n",
    "import numpy as np\n",
    "import seaborn as sns\n",
    "import matplotlib.pyplot as plt\n",
    "import random\n",
    "import pandas as pd\n",
    "\n",
    "from sklearn import neighbors\n",
    "\n",
    "from pyspark import SparkContext\n",
    "sc = SparkContext.getOrCreate()\n",
    "\n",
    "spark = SparkSession.builder.getOrCreate()"
   ]
  },
  {
   "cell_type": "code",
   "execution_count": 2,
   "id": "invalid-grocery",
   "metadata": {},
   "outputs": [],
   "source": [
    "data = spark.read.option(\"header\",True).option('inferSchema', True).json(\"no_outlier_KMeans_v3.json\")"
   ]
  },
  {
   "cell_type": "markdown",
   "id": "continental-depth",
   "metadata": {},
   "source": [
    "### definizione funzioni"
   ]
  },
  {
   "cell_type": "code",
   "execution_count": 3,
   "id": "brutal-asset",
   "metadata": {},
   "outputs": [],
   "source": [
    "def getAppeal(value):\n",
    "    \"\"\"\n",
    "    Defines target variable\n",
    "    \"\"\"\n",
    "    if float(value) >= 3.5:\n",
    "        return 1\n",
    "    else:\n",
    "        return 0\n",
    "\n",
    "def save_clf(clf, version, directory='models'):\n",
    "    \"\"\"\n",
    "    Saves classifier to models directory\n",
    "    \"\"\"\n",
    "    if not os.path.isdir(directory):\n",
    "        os.mkdir(directory)\n",
    "        print(f\"Directory {directory} created\")\n",
    "    \n",
    "    filename = f'{directory}/{str(type(clf)).split(\".\")[-1][:-2]}-{version}.model'\n",
    "\n",
    "    if not os.path.isfile(filename):\n",
    "        clf.save(filename)\n",
    "        print('Model saved:', filename)\n",
    "    else:\n",
    "        print('File already exists:', filename)\n",
    "        \n",
    "def load_clf(base, filename, directory='models'):\n",
    "    \"\"\"\n",
    "    Loads MLib clfier\n",
    "    \"\"\"\n",
    "    file = os.path.join(directory, filename)\n",
    "\n",
    "    clf = base.load(file)\n",
    "    print('Model loaded:', filename)\n",
    "    return clf\n",
    "\n",
    "def grid_search(train, model, paramGrid):\n",
    "    crossval = CrossValidator(estimator=model,\n",
    "                      estimatorParamMaps=paramGrid,\n",
    "                      evaluator=BinaryClassificationEvaluator().setLabelCol(\"Appeal\"),\n",
    "                      numFolds=5)  # imposto a 5 per la 5-fold cv\n",
    "    fit_model = crossval.fit(train)\n",
    "    print(fit_model)\n",
    "    bestModel = fit_model.bestModel\n",
    "    return bestModel\n",
    "\n",
    "def get_params(model, params):\n",
    "    \"\"\"\n",
    "    Prints model parameters\n",
    "    \"\"\"\n",
    "    extract_par = model.extractParamMap()\n",
    "    best_parameters = {}\n",
    "    for par in params:\n",
    "        if model.hasParam(par):\n",
    "            best_parameters[par] = extract_par[model.getParam(par)]\n",
    "    print(best_parameters)\n",
    "\n",
    "def scale_data(data):\n",
    "    scaler = MinMaxScaler(inputCol='features_classification',outputCol='features_standardized')\n",
    "    scaled = scaler.fit(data).transform(data)\n",
    "    return scaled\n",
    "\n",
    "def my_confusion_matrix(cfm):\n",
    "    group_names = ['TN','FP','FN','TP']\n",
    "\n",
    "    group_counts = [\"{0:0.0f}\".format(value) for value in\n",
    "                cfm.flatten()]\n",
    "\n",
    "    group_percentages = [\"{0:.2%}\".format(value) for value in\n",
    "                     cfm.flatten()/np.sum(cfm)]\n",
    "\n",
    "    labels = [f\"{v1}\\n{v2}\\n{v3}\" for v1, v2, v3 in\n",
    "          zip(group_names,group_counts,group_percentages)]\n",
    "\n",
    "    labels = np.asarray(labels).reshape(2,2)\n",
    "\n",
    "    sns.heatmap(cfm, annot=labels, fmt=\"\", cmap='Blues')\n",
    "    plt.ylabel('True Label', fontsize=12)\n",
    "    plt.xlabel('Predicted',fontsize=12)\n",
    "\n",
    "def evaluate(predictions):\n",
    "    \"\"\"\n",
    "    Prints evaluation metrics\n",
    "    Plots confusion matrix\n",
    "    \"\"\"\n",
    " \n",
    "    evaluator = BinaryClassificationEvaluator(labelCol=\"Appeal\")\n",
    "    AUC  = evaluator.evaluate(predictions)\n",
    "    \n",
    "    cm = predictions.crosstab(\"prediction\", \"Appeal\").toPandas()\n",
    "    \n",
    "    # calculate \n",
    "    TP = cm[\"1\"][0]\n",
    "    FP = cm[\"0\"][0]\n",
    "    TN = cm[\"0\"][1]\n",
    "    FN = cm[\"1\"][1]\n",
    "    Accuracy = (TP+TN)/(TP+FP+TN+FN)\n",
    "    Recall = TP/(TP+FN)\n",
    "    Specificity = TN/(TN+FP)\n",
    "    Precision = TP/(TP+FP)\n",
    "    F1 = 2 * ((Precision * Recall)/(Precision + Recall))\n",
    "    print(\"Model Performance Measure\")\n",
    "    print (\"Accuracy = %0.2f\" %Accuracy )\n",
    "    print (\"Specificity = %0.2f\" %Specificity )\n",
    "    print (\"Precision = %0.2f\" %Precision )\n",
    "    print (\"Recall = %0.2f\" %Recall )\n",
    "    print (\"F1-score = %0.2f\" %F1 )\n",
    "    \n",
    "    print(\"AUC = %.2f\" % AUC)\n",
    "    \n",
    "    my_confusion_matrix(np.array([[TN, FP],[ FN, TP]]))\n",
    "\n",
    "from sklearn.metrics import roc_curve, auc\n",
    "\n",
    "def plot_ROC(predictions):\n",
    "    PredAndLabels           = predictions.select(\"probability\", \"Appeal\")\n",
    "    PredAndLabels_collect   = PredAndLabels.collect()\n",
    "    PredAndLabels_list      = [(float(i[0][0]), 1.0-float(i[1])) for i in PredAndLabels_collect]\n",
    "    PredAndLabels           = sc.parallelize(PredAndLabels_list)\n",
    "\n",
    "    metrics = BinaryClassificationMetrics(PredAndLabels)\n",
    "\n",
    "    # Area under ROC\n",
    "    print(\"Area under ROC = %.2f\" % metrics.areaUnderROC)\n",
    "\n",
    "    # Visualization\n",
    "    FPR = dict()                                                        # FPR: False Positive Rate\n",
    "    tpr = dict()                                                        # TPR: True Positive Rate\n",
    "    roc_auc = dict()\n",
    "\n",
    "    y_test = [i[1] for i in PredAndLabels_list]\n",
    "    y_score = [i[0] for i in PredAndLabels_list]\n",
    "\n",
    "    fpr, tpr, _ = roc_curve(y_test, y_score)\n",
    "    roc_auc = auc(fpr, tpr)\n",
    "\n",
    "    plt.figure(figsize=(5,4))\n",
    "    plt.plot(fpr, tpr, label='ROC curve (area = %0.2f)' % roc_auc)\n",
    "    plt.plot([0, 1], [0, 1], 'k--')\n",
    "    plt.xlim([0.0, 1.0])\n",
    "    plt.ylim([0.0, 1.05])\n",
    "    plt.xlabel('False Positive Rate')\n",
    "    plt.ylabel('True Positive Rate')\n",
    "    plt.title('ROC Curve')\n",
    "    plt.legend(loc=\"lower right\")\n",
    "    plt.draw() \n",
    "\n",
    "def extractFeatureImportance(featureImp, dataset, featuresCol):\n",
    "    list_extract = []\n",
    "    for i in dataset.schema[featuresCol].metadata[\"ml_attr\"][\"attrs\"]:\n",
    "        list_extract = list_extract + dataset.schema[featuresCol].metadata[\"ml_attr\"][\"attrs\"][i]\n",
    "    varlist = pd.DataFrame(list_extract)\n",
    "    varlist['score'] = varlist['idx'].apply(lambda x: featureImp[x])\n",
    "    return(varlist.sort_values('score', ascending = False))"
   ]
  },
  {
   "cell_type": "markdown",
   "id": "enclosed-transmission",
   "metadata": {},
   "source": [
    "### Preprocessing: binarizzazione di rating ed eliminazione features rimaste dal clustering"
   ]
  },
  {
   "cell_type": "code",
   "execution_count": 4,
   "id": "czech-responsibility",
   "metadata": {},
   "outputs": [],
   "source": [
    "data = data.withColumn(\"Appeal\", udf(getAppeal)(\"Rating\"))"
   ]
  },
  {
   "cell_type": "code",
   "execution_count": 5,
   "id": "comfortable-beauty",
   "metadata": {},
   "outputs": [],
   "source": [
    "data = data.withColumn(\"Quarter_of_Release\", data[\"Quarter_of_Release\"].cast(IntegerType()))\n",
    "data = data.withColumn(\"Appeal\", data[\"Appeal\"].cast(IntegerType()))"
   ]
  },
  {
   "cell_type": "code",
   "execution_count": 6,
   "id": "demographic-affect",
   "metadata": {},
   "outputs": [],
   "source": [
    "data = data.drop(\"Rating\",\"prediction\", \"features_cluster\", \"distances\", \"standardized\", \"position\")"
   ]
  },
  {
   "cell_type": "markdown",
   "id": "focal-archives",
   "metadata": {},
   "source": [
    "### Assembling"
   ]
  },
  {
   "cell_type": "code",
   "execution_count": 7,
   "id": "marine-logan",
   "metadata": {},
   "outputs": [],
   "source": [
    "features_classification = [\"Age\",\"EditorsChoice\",\n",
    "                           \"AdSupported\",\"InApp\", \"Price\",\n",
    "                           \"Year_of_Release\",\"Quarter_of_Release\",\n",
    "                           \"Price_stdev_from_Category\", \"Year_of_Last_Update\"]\n",
    "\n",
    "#,\n",
    "#,\n",
    "                          #\"Installs_stdev_from_Category\"] #, \"Installs\"]"
   ]
  },
  {
   "cell_type": "code",
   "execution_count": 8,
   "id": "continuous-natural",
   "metadata": {},
   "outputs": [],
   "source": [
    "from pyspark.ml.feature import VectorAssembler\n",
    "\n",
    "assembler = VectorAssembler(inputCols=features_classification, outputCol='features_classification')\n",
    "\n",
    "data = assembler.transform(data)"
   ]
  },
  {
   "cell_type": "code",
   "execution_count": 9,
   "id": "awful-crash",
   "metadata": {},
   "outputs": [],
   "source": [
    "#data.select('features_classification').show(10)"
   ]
  },
  {
   "cell_type": "markdown",
   "id": "driven-puppy",
   "metadata": {},
   "source": [
    "### Prova CrossGenre"
   ]
  },
  {
   "cell_type": "code",
   "execution_count": 10,
   "id": "defensive-benefit",
   "metadata": {},
   "outputs": [
    {
     "name": "stdout",
     "output_type": "stream",
     "text": [
      "+--------------------+\n",
      "|            Category|\n",
      "+--------------------+\n",
      "|       Music & Audio|\n",
      "|           Education|\n",
      "|              Trivia|\n",
      "|     Auto & Vehicles|\n",
      "|       Entertainment|\n",
      "|           Adventure|\n",
      "|              Arcade|\n",
      "|              Sports|\n",
      "|      Travel & Local|\n",
      "|        Food & Drink|\n",
      "|        Role Playing|\n",
      "|             Finance|\n",
      "|     Personalization|\n",
      "|              Racing|\n",
      "|               Tools|\n",
      "|         Educational|\n",
      "|              Comics|\n",
      "|              Social|\n",
      "|    Libraries & Demo|\n",
      "|            Shopping|\n",
      "|    Health & Fitness|\n",
      "|        House & Home|\n",
      "|        Productivity|\n",
      "|                Card|\n",
      "|              Casino|\n",
      "|               Music|\n",
      "|         Photography|\n",
      "|              Events|\n",
      "|           Lifestyle|\n",
      "|            Business|\n",
      "|    News & Magazines|\n",
      "|Video Players & E...|\n",
      "|   Books & Reference|\n",
      "|              Dating|\n",
      "|             Weather|\n",
      "|              Puzzle|\n",
      "|              Casual|\n",
      "|               Board|\n",
      "|             Medical|\n",
      "|           Parenting|\n",
      "|       Communication|\n",
      "|                Word|\n",
      "|              Beauty|\n",
      "|              Action|\n",
      "|            Strategy|\n",
      "|   Maps & Navigation|\n",
      "|        Art & Design|\n",
      "|          Simulation|\n",
      "+--------------------+\n",
      "\n"
     ]
    }
   ],
   "source": [
    "data.select('Category').distinct().show(100)"
   ]
  },
  {
   "cell_type": "code",
   "execution_count": 11,
   "id": "behavioral-rochester",
   "metadata": {},
   "outputs": [],
   "source": [
    "category_train = 'News & Magazines' # categoria principale di addestramento\n",
    "category_test = 'Books & Reference' # categoria su cui si vuole testare\n",
    "\n",
    "# modello (deve avere labelCol=Appeal e featuresCol='features_classification')\n",
    "# non deve essere fittato (non mettere .fit())\n",
    "# si possono impostare anche altri parametri\n",
    "# ad es, nel caso del decision tree potremmo mettere:\n",
    "# impurity='gini', maxDepth=5, maxBins=15\n",
    "\n",
    "# opzionalmente, si può definire una paramGrid e darla in pasto alla pipeline, che effettuerà anche la grid\n",
    "# se non si vuole fare grid search, lasciare paramGrid=None"
   ]
  },
  {
   "cell_type": "code",
   "execution_count": 12,
   "id": "ranging-victory",
   "metadata": {},
   "outputs": [
    {
     "name": "stdout",
     "output_type": "stream",
     "text": [
      "Filtering...\n",
      "Dataframe of size 47170 for category: Arcade\n",
      "Train-test split...\n",
      "Executing grid search, fitting the model...\n",
      "CrossValidatorModel_a3c12c07cd55\n"
     ]
    }
   ],
   "source": [
    "category_train = 'Arcade' # categoria principale di addestramento\n",
    "category_test = 'Casual' # categoria su cui si vuole testare\n",
    "\n",
    "print('Filtering...')\n",
    "data_ctrain = data.filter(data.Category == category_train)\n",
    "data_ctest = data.filter(data.Category == category_test)\n",
    "print('Dataframe of size', data_ctrain.count(), \"for category:\", category_train)\n",
    "\n",
    "print('Train-test split...')\n",
    "train, test = data_ctrain.randomSplit([0.7, 0.3], seed=0)\n",
    "\n",
    "# set the model\n",
    "model = LinearSVC(labelCol=\"Appeal\", featuresCol=\"features_classification\")\n",
    "# set parameter grid\n",
    "paramGrid = ParamGridBuilder()\\\n",
    "    .addGrid(model.tol, [1e-06, 1e-05, 1e-04,1e-03, 1e-07, 1e-08]) \\\n",
    "    .addGrid(model.regParam, [0.0, 0.01, 0.1 ])\\\n",
    "    .addGrid(model.fitIntercept, [True, False])\\\n",
    "    .build()\n",
    "    \n",
    "print('Executing grid search, fitting the model...')\n",
    "model = grid_search(train, model, paramGrid)\n",
    "\n"
   ]
  },
  {
   "cell_type": "code",
   "execution_count": 14,
   "id": "juvenile-surface",
   "metadata": {},
   "outputs": [
    {
     "name": "stdout",
     "output_type": "stream",
     "text": [
      "Predicting on test set (Arcade)\n",
      "Evaluating on test set(Arcade)\n",
      "Model Performance Measure\n",
      "Accuracy = 0.56\n",
      "Specificity = 0.85\n",
      "Precision = 0.67\n",
      "Recall = 0.29\n",
      "F1-score = 0.40\n",
      "AUC = 0.62\n"
     ]
    },
    {
     "data": {
      "image/png": "[encoded data removed]",
      "text/plain": [
       "<Figure size 432x288 with 2 Axes>"
      ]
     },
     "metadata": {
      "needs_background": "light"
     },
     "output_type": "display_data"
    }
   ],
   "source": [
    "print(f'Predicting on test set ({category_train})')\n",
    "predictions1 = model.transform(data_ctrain)\n",
    "print(f'Evaluating on test set({category_train})')\n",
    "evaluate(predictions1)\n"
   ]
  },
  {
   "cell_type": "code",
   "execution_count": 15,
   "id": "continental-norwegian",
   "metadata": {},
   "outputs": [
    {
     "name": "stdout",
     "output_type": "stream",
     "text": [
      "Predicting on test set (Casual)\n",
      "Evaluating on test set(Casual)\n",
      "Model Performance Measure\n",
      "Accuracy = 0.58\n",
      "Specificity = 0.85\n",
      "Precision = 0.68\n",
      "Recall = 0.32\n",
      "F1-score = 0.44\n",
      "AUC = 0.66\n"
     ]
    },
    {
     "data": {
      "image/png": "[encoded data removed]",
      "text/plain": [
       "<Figure size 432x288 with 2 Axes>"
      ]
     },
     "metadata": {
      "needs_background": "light"
     },
     "output_type": "display_data"
    }
   ],
   "source": [
    "print(f'Predicting on test set ({category_test})')\n",
    "predictions2 = model.transform(data_ctest)\n",
    "print(f'Evaluating on test set({category_test})')\n",
    "evaluate(predictions2)\n"
   ]
  },
  {
   "cell_type": "code",
   "execution_count": 16,
   "id": "public-orbit",
   "metadata": {},
   "outputs": [
    {
     "ename": "AnalysisException",
     "evalue": "cannot resolve '`probability`' given input columns: [AdSupported, Age, AppId, AppName, Appeal, Category, DeveloperId, EditorsChoice, InApp, Installs, Installs_stdev_from_Category, MinAndroid, Price, Price_stdev_from_Category, Quarter_of_Release, Rating_Reviews_Ratio, Rating_stdev_from_Category, Reviews_Installs_Ratio, Size, Size_stdev_from_Category, Year_of_Last_Update, Year_of_Release, features_classification, nReviews, nReviews_stdev_from_Category, prediction, rawPrediction];\n'Project ['probability, Appeal#128]\n+- Project [AdSupported#7, Age#8L, AppId#9, AppName#10, Category#11, DeveloperId#12, EditorsChoice#13, InApp#14, Installs#15, Installs_stdev_from_Category#16, MinAndroid#17, Price#18, Price_stdev_from_Category#19, Quarter_of_Release#97, Rating_Reviews_Ratio#22, Rating_stdev_from_Category#23, Reviews_Installs_Ratio#24, Size#25, Size_stdev_from_Category#26, Year_of_Last_Update#27L, Year_of_Release#28L, nReviews#31, nReviews_stdev_from_Category#32, Appeal#128, ... 3 more fields]\n   +- Project [AdSupported#7, Age#8L, AppId#9, AppName#10, Category#11, DeveloperId#12, EditorsChoice#13, InApp#14, Installs#15, Installs_stdev_from_Category#16, MinAndroid#17, Price#18, Price_stdev_from_Category#19, Quarter_of_Release#97, Rating_Reviews_Ratio#22, Rating_stdev_from_Category#23, Reviews_Installs_Ratio#24, Size#25, Size_stdev_from_Category#26, Year_of_Last_Update#27L, Year_of_Release#28L, nReviews#31, nReviews_stdev_from_Category#32, Appeal#128, ... 2 more fields]\n      +- Filter (Category#11 = Arcade)\n         +- Project [AdSupported#7, Age#8L, AppId#9, AppName#10, Category#11, DeveloperId#12, EditorsChoice#13, InApp#14, Installs#15, Installs_stdev_from_Category#16, MinAndroid#17, Price#18, Price_stdev_from_Category#19, Quarter_of_Release#97, Rating_Reviews_Ratio#22, Rating_stdev_from_Category#23, Reviews_Installs_Ratio#24, Size#25, Size_stdev_from_Category#26, Year_of_Last_Update#27L, Year_of_Release#28L, nReviews#31, nReviews_stdev_from_Category#32, Appeal#128, UDF(struct(Age_double_VectorAssembler_1e76a3ea1920, cast(Age#8L as double), EditorsChoice_double_VectorAssembler_1e76a3ea1920, cast(EditorsChoice#13 as double), AdSupported_double_VectorAssembler_1e76a3ea1920, cast(AdSupported#7 as double), InApp_double_VectorAssembler_1e76a3ea1920, cast(InApp#14 as double), Price, Price#18, Year_of_Release_double_VectorAssembler_1e76a3ea1920, cast(Year_of_Release#28L as double), Quarter_of_Release_double_VectorAssembler_1e76a3ea1920, cast(Quarter_of_Release#97 as double), Price_stdev_from_Category, Price_stdev_from_Category#19, Year_of_Last_Update_double_VectorAssembler_1e76a3ea1920, cast(Year_of_Last_Update#27L as double))) AS features_classification#191]\n            +- Project [AdSupported#7, Age#8L, AppId#9, AppName#10, Category#11, DeveloperId#12, EditorsChoice#13, InApp#14, Installs#15, Installs_stdev_from_Category#16, MinAndroid#17, Price#18, Price_stdev_from_Category#19, Quarter_of_Release#97, Rating_Reviews_Ratio#22, Rating_stdev_from_Category#23, Reviews_Installs_Ratio#24, Size#25, Size_stdev_from_Category#26, Year_of_Last_Update#27L, Year_of_Release#28L, nReviews#31, nReviews_stdev_from_Category#32, Appeal#128]\n               +- Project [AdSupported#7, Age#8L, AppId#9, AppName#10, Category#11, DeveloperId#12, EditorsChoice#13, InApp#14, Installs#15, Installs_stdev_from_Category#16, MinAndroid#17, Price#18, Price_stdev_from_Category#19, Quarter_of_Release#97, Rating#21, Rating_Reviews_Ratio#22, Rating_stdev_from_Category#23, Reviews_Installs_Ratio#24, Size#25, Size_stdev_from_Category#26, Year_of_Last_Update#27L, Year_of_Release#28L, distances#29, features_cluster#30, ... 6 more fields]\n                  +- Project [AdSupported#7, Age#8L, AppId#9, AppName#10, Category#11, DeveloperId#12, EditorsChoice#13, InApp#14, Installs#15, Installs_stdev_from_Category#16, MinAndroid#17, Price#18, Price_stdev_from_Category#19, cast(Quarter_of_Release#20 as int) AS Quarter_of_Release#97, Rating#21, Rating_Reviews_Ratio#22, Rating_stdev_from_Category#23, Reviews_Installs_Ratio#24, Size#25, Size_stdev_from_Category#26, Year_of_Last_Update#27L, Year_of_Release#28L, distances#29, features_cluster#30, ... 6 more fields]\n                     +- Project [AdSupported#7, Age#8L, AppId#9, AppName#10, Category#11, DeveloperId#12, EditorsChoice#13, InApp#14, Installs#15, Installs_stdev_from_Category#16, MinAndroid#17, Price#18, Price_stdev_from_Category#19, Quarter_of_Release#20, Rating#21, Rating_Reviews_Ratio#22, Rating_stdev_from_Category#23, Reviews_Installs_Ratio#24, Size#25, Size_stdev_from_Category#26, Year_of_Last_Update#27L, Year_of_Release#28L, distances#29, features_cluster#30, ... 6 more fields]\n                        +- Relation[AdSupported#7,Age#8L,AppId#9,AppName#10,Category#11,DeveloperId#12,EditorsChoice#13,InApp#14,Installs#15,Installs_stdev_from_Category#16,MinAndroid#17,Price#18,Price_stdev_from_Category#19,Quarter_of_Release#20,Rating#21,Rating_Reviews_Ratio#22,Rating_stdev_from_Category#23,Reviews_Installs_Ratio#24,Size#25,Size_stdev_from_Category#26,Year_of_Last_Update#27L,Year_of_Release#28L,distances#29,features_cluster#30,... 5 more fields] json\n",
     "output_type": "error",
     "traceback": [
      "\u001b[0;31m---------------------------------------------------------------------------\u001b[0m",
      "\u001b[0;31mAnalysisException\u001b[0m                         Traceback (most recent call last)",
      "\u001b[0;32m<ipython-input-16-a13d2f852edb>\u001b[0m in \u001b[0;36m<module>\u001b[0;34m\u001b[0m\n\u001b[0;32m----> 1\u001b[0;31m \u001b[0mplot_ROC\u001b[0m\u001b[0;34m(\u001b[0m\u001b[0mpredictions1\u001b[0m\u001b[0;34m)\u001b[0m\u001b[0;34m\u001b[0m\u001b[0;34m\u001b[0m\u001b[0m\n\u001b[0m\u001b[1;32m      2\u001b[0m \u001b[0mplot_ROC\u001b[0m\u001b[0;34m(\u001b[0m\u001b[0mpredictions2\u001b[0m\u001b[0;34m)\u001b[0m\u001b[0;34m\u001b[0m\u001b[0;34m\u001b[0m\u001b[0m\n",
      "\u001b[0;32m<ipython-input-3-e8e1f6776d55>\u001b[0m in \u001b[0;36mplot_ROC\u001b[0;34m(predictions)\u001b[0m\n\u001b[1;32m    113\u001b[0m \u001b[0;34m\u001b[0m\u001b[0m\n\u001b[1;32m    114\u001b[0m \u001b[0;32mdef\u001b[0m \u001b[0mplot_ROC\u001b[0m\u001b[0;34m(\u001b[0m\u001b[0mpredictions\u001b[0m\u001b[0;34m)\u001b[0m\u001b[0;34m:\u001b[0m\u001b[0;34m\u001b[0m\u001b[0;34m\u001b[0m\u001b[0m\n\u001b[0;32m--> 115\u001b[0;31m     \u001b[0mPredAndLabels\u001b[0m           \u001b[0;34m=\u001b[0m \u001b[0mpredictions\u001b[0m\u001b[0;34m.\u001b[0m\u001b[0mselect\u001b[0m\u001b[0;34m(\u001b[0m\u001b[0;34m\"probability\"\u001b[0m\u001b[0;34m,\u001b[0m \u001b[0;34m\"Appeal\"\u001b[0m\u001b[0;34m)\u001b[0m\u001b[0;34m\u001b[0m\u001b[0;34m\u001b[0m\u001b[0m\n\u001b[0m\u001b[1;32m    116\u001b[0m     \u001b[0mPredAndLabels_collect\u001b[0m   \u001b[0;34m=\u001b[0m \u001b[0mPredAndLabels\u001b[0m\u001b[0;34m.\u001b[0m\u001b[0mcollect\u001b[0m\u001b[0;34m(\u001b[0m\u001b[0;34m)\u001b[0m\u001b[0;34m\u001b[0m\u001b[0;34m\u001b[0m\u001b[0m\n\u001b[1;32m    117\u001b[0m     \u001b[0mPredAndLabels_list\u001b[0m      \u001b[0;34m=\u001b[0m \u001b[0;34m[\u001b[0m\u001b[0;34m(\u001b[0m\u001b[0mfloat\u001b[0m\u001b[0;34m(\u001b[0m\u001b[0mi\u001b[0m\u001b[0;34m[\u001b[0m\u001b[0;36m0\u001b[0m\u001b[0;34m]\u001b[0m\u001b[0;34m[\u001b[0m\u001b[0;36m0\u001b[0m\u001b[0;34m]\u001b[0m\u001b[0;34m)\u001b[0m\u001b[0;34m,\u001b[0m \u001b[0;36m1.0\u001b[0m\u001b[0;34m-\u001b[0m\u001b[0mfloat\u001b[0m\u001b[0;34m(\u001b[0m\u001b[0mi\u001b[0m\u001b[0;34m[\u001b[0m\u001b[0;36m1\u001b[0m\u001b[0;34m]\u001b[0m\u001b[0;34m)\u001b[0m\u001b[0;34m)\u001b[0m \u001b[0;32mfor\u001b[0m \u001b[0mi\u001b[0m \u001b[0;32min\u001b[0m \u001b[0mPredAndLabels_collect\u001b[0m\u001b[0;34m]\u001b[0m\u001b[0;34m\u001b[0m\u001b[0;34m\u001b[0m\u001b[0m\n",
      "\u001b[0;32m/usr/local/lib/python3.8/dist-packages/pyspark/sql/dataframe.py\u001b[0m in \u001b[0;36mselect\u001b[0;34m(self, *cols)\u001b[0m\n\u001b[1;32m   1667\u001b[0m         \u001b[0;34m[\u001b[0m\u001b[0mRow\u001b[0m\u001b[0;34m(\u001b[0m\u001b[0mname\u001b[0m\u001b[0;34m=\u001b[0m\u001b[0;34m'Alice'\u001b[0m\u001b[0;34m,\u001b[0m \u001b[0mage\u001b[0m\u001b[0;34m=\u001b[0m\u001b[0;36m12\u001b[0m\u001b[0;34m)\u001b[0m\u001b[0;34m,\u001b[0m \u001b[0mRow\u001b[0m\u001b[0;34m(\u001b[0m\u001b[0mname\u001b[0m\u001b[0;34m=\u001b[0m\u001b[0;34m'Bob'\u001b[0m\u001b[0;34m,\u001b[0m \u001b[0mage\u001b[0m\u001b[0;34m=\u001b[0m\u001b[0;36m15\u001b[0m\u001b[0;34m)\u001b[0m\u001b[0;34m]\u001b[0m\u001b[0;34m\u001b[0m\u001b[0;34m\u001b[0m\u001b[0m\n\u001b[1;32m   1668\u001b[0m         \"\"\"\n\u001b[0;32m-> 1669\u001b[0;31m         \u001b[0mjdf\u001b[0m \u001b[0;34m=\u001b[0m \u001b[0mself\u001b[0m\u001b[0;34m.\u001b[0m\u001b[0m_jdf\u001b[0m\u001b[0;34m.\u001b[0m\u001b[0mselect\u001b[0m\u001b[0;34m(\u001b[0m\u001b[0mself\u001b[0m\u001b[0;34m.\u001b[0m\u001b[0m_jcols\u001b[0m\u001b[0;34m(\u001b[0m\u001b[0;34m*\u001b[0m\u001b[0mcols\u001b[0m\u001b[0;34m)\u001b[0m\u001b[0;34m)\u001b[0m\u001b[0;34m\u001b[0m\u001b[0;34m\u001b[0m\u001b[0m\n\u001b[0m\u001b[1;32m   1670\u001b[0m         \u001b[0;32mreturn\u001b[0m \u001b[0mDataFrame\u001b[0m\u001b[0;34m(\u001b[0m\u001b[0mjdf\u001b[0m\u001b[0;34m,\u001b[0m \u001b[0mself\u001b[0m\u001b[0;34m.\u001b[0m\u001b[0msql_ctx\u001b[0m\u001b[0;34m)\u001b[0m\u001b[0;34m\u001b[0m\u001b[0;34m\u001b[0m\u001b[0m\n\u001b[1;32m   1671\u001b[0m \u001b[0;34m\u001b[0m\u001b[0m\n",
      "\u001b[0;32m/usr/local/lib/python3.8/dist-packages/py4j/java_gateway.py\u001b[0m in \u001b[0;36m__call__\u001b[0;34m(self, *args)\u001b[0m\n\u001b[1;32m   1302\u001b[0m \u001b[0;34m\u001b[0m\u001b[0m\n\u001b[1;32m   1303\u001b[0m         \u001b[0manswer\u001b[0m \u001b[0;34m=\u001b[0m \u001b[0mself\u001b[0m\u001b[0;34m.\u001b[0m\u001b[0mgateway_client\u001b[0m\u001b[0;34m.\u001b[0m\u001b[0msend_command\u001b[0m\u001b[0;34m(\u001b[0m\u001b[0mcommand\u001b[0m\u001b[0;34m)\u001b[0m\u001b[0;34m\u001b[0m\u001b[0;34m\u001b[0m\u001b[0m\n\u001b[0;32m-> 1304\u001b[0;31m         return_value = get_return_value(\n\u001b[0m\u001b[1;32m   1305\u001b[0m             answer, self.gateway_client, self.target_id, self.name)\n\u001b[1;32m   1306\u001b[0m \u001b[0;34m\u001b[0m\u001b[0m\n",
      "\u001b[0;32m/usr/local/lib/python3.8/dist-packages/pyspark/sql/utils.py\u001b[0m in \u001b[0;36mdeco\u001b[0;34m(*a, **kw)\u001b[0m\n\u001b[1;32m    115\u001b[0m                 \u001b[0;31m# Hide where the exception came from that shows a non-Pythonic\u001b[0m\u001b[0;34m\u001b[0m\u001b[0;34m\u001b[0m\u001b[0;34m\u001b[0m\u001b[0m\n\u001b[1;32m    116\u001b[0m                 \u001b[0;31m# JVM exception message.\u001b[0m\u001b[0;34m\u001b[0m\u001b[0;34m\u001b[0m\u001b[0;34m\u001b[0m\u001b[0m\n\u001b[0;32m--> 117\u001b[0;31m                 \u001b[0;32mraise\u001b[0m \u001b[0mconverted\u001b[0m \u001b[0;32mfrom\u001b[0m \u001b[0;32mNone\u001b[0m\u001b[0;34m\u001b[0m\u001b[0;34m\u001b[0m\u001b[0m\n\u001b[0m\u001b[1;32m    118\u001b[0m             \u001b[0;32melse\u001b[0m\u001b[0;34m:\u001b[0m\u001b[0;34m\u001b[0m\u001b[0;34m\u001b[0m\u001b[0m\n\u001b[1;32m    119\u001b[0m                 \u001b[0;32mraise\u001b[0m\u001b[0;34m\u001b[0m\u001b[0;34m\u001b[0m\u001b[0m\n",
      "\u001b[0;31mAnalysisException\u001b[0m: cannot resolve '`probability`' given input columns: [AdSupported, Age, AppId, AppName, Appeal, Category, DeveloperId, EditorsChoice, InApp, Installs, Installs_stdev_from_Category, MinAndroid, Price, Price_stdev_from_Category, Quarter_of_Release, Rating_Reviews_Ratio, Rating_stdev_from_Category, Reviews_Installs_Ratio, Size, Size_stdev_from_Category, Year_of_Last_Update, Year_of_Release, features_classification, nReviews, nReviews_stdev_from_Category, prediction, rawPrediction];\n'Project ['probability, Appeal#128]\n+- Project [AdSupported#7, Age#8L, AppId#9, AppName#10, Category#11, DeveloperId#12, EditorsChoice#13, InApp#14, Installs#15, Installs_stdev_from_Category#16, MinAndroid#17, Price#18, Price_stdev_from_Category#19, Quarter_of_Release#97, Rating_Reviews_Ratio#22, Rating_stdev_from_Category#23, Reviews_Installs_Ratio#24, Size#25, Size_stdev_from_Category#26, Year_of_Last_Update#27L, Year_of_Release#28L, nReviews#31, nReviews_stdev_from_Category#32, Appeal#128, ... 3 more fields]\n   +- Project [AdSupported#7, Age#8L, AppId#9, AppName#10, Category#11, DeveloperId#12, EditorsChoice#13, InApp#14, Installs#15, Installs_stdev_from_Category#16, MinAndroid#17, Price#18, Price_stdev_from_Category#19, Quarter_of_Release#97, Rating_Reviews_Ratio#22, Rating_stdev_from_Category#23, Reviews_Installs_Ratio#24, Size#25, Size_stdev_from_Category#26, Year_of_Last_Update#27L, Year_of_Release#28L, nReviews#31, nReviews_stdev_from_Category#32, Appeal#128, ... 2 more fields]\n      +- Filter (Category#11 = Arcade)\n         +- Project [AdSupported#7, Age#8L, AppId#9, AppName#10, Category#11, DeveloperId#12, EditorsChoice#13, InApp#14, Installs#15, Installs_stdev_from_Category#16, MinAndroid#17, Price#18, Price_stdev_from_Category#19, Quarter_of_Release#97, Rating_Reviews_Ratio#22, Rating_stdev_from_Category#23, Reviews_Installs_Ratio#24, Size#25, Size_stdev_from_Category#26, Year_of_Last_Update#27L, Year_of_Release#28L, nReviews#31, nReviews_stdev_from_Category#32, Appeal#128, UDF(struct(Age_double_VectorAssembler_1e76a3ea1920, cast(Age#8L as double), EditorsChoice_double_VectorAssembler_1e76a3ea1920, cast(EditorsChoice#13 as double), AdSupported_double_VectorAssembler_1e76a3ea1920, cast(AdSupported#7 as double), InApp_double_VectorAssembler_1e76a3ea1920, cast(InApp#14 as double), Price, Price#18, Year_of_Release_double_VectorAssembler_1e76a3ea1920, cast(Year_of_Release#28L as double), Quarter_of_Release_double_VectorAssembler_1e76a3ea1920, cast(Quarter_of_Release#97 as double), Price_stdev_from_Category, Price_stdev_from_Category#19, Year_of_Last_Update_double_VectorAssembler_1e76a3ea1920, cast(Year_of_Last_Update#27L as double))) AS features_classification#191]\n            +- Project [AdSupported#7, Age#8L, AppId#9, AppName#10, Category#11, DeveloperId#12, EditorsChoice#13, InApp#14, Installs#15, Installs_stdev_from_Category#16, MinAndroid#17, Price#18, Price_stdev_from_Category#19, Quarter_of_Release#97, Rating_Reviews_Ratio#22, Rating_stdev_from_Category#23, Reviews_Installs_Ratio#24, Size#25, Size_stdev_from_Category#26, Year_of_Last_Update#27L, Year_of_Release#28L, nReviews#31, nReviews_stdev_from_Category#32, Appeal#128]\n               +- Project [AdSupported#7, Age#8L, AppId#9, AppName#10, Category#11, DeveloperId#12, EditorsChoice#13, InApp#14, Installs#15, Installs_stdev_from_Category#16, MinAndroid#17, Price#18, Price_stdev_from_Category#19, Quarter_of_Release#97, Rating#21, Rating_Reviews_Ratio#22, Rating_stdev_from_Category#23, Reviews_Installs_Ratio#24, Size#25, Size_stdev_from_Category#26, Year_of_Last_Update#27L, Year_of_Release#28L, distances#29, features_cluster#30, ... 6 more fields]\n                  +- Project [AdSupported#7, Age#8L, AppId#9, AppName#10, Category#11, DeveloperId#12, EditorsChoice#13, InApp#14, Installs#15, Installs_stdev_from_Category#16, MinAndroid#17, Price#18, Price_stdev_from_Category#19, cast(Quarter_of_Release#20 as int) AS Quarter_of_Release#97, Rating#21, Rating_Reviews_Ratio#22, Rating_stdev_from_Category#23, Reviews_Installs_Ratio#24, Size#25, Size_stdev_from_Category#26, Year_of_Last_Update#27L, Year_of_Release#28L, distances#29, features_cluster#30, ... 6 more fields]\n                     +- Project [AdSupported#7, Age#8L, AppId#9, AppName#10, Category#11, DeveloperId#12, EditorsChoice#13, InApp#14, Installs#15, Installs_stdev_from_Category#16, MinAndroid#17, Price#18, Price_stdev_from_Category#19, Quarter_of_Release#20, Rating#21, Rating_Reviews_Ratio#22, Rating_stdev_from_Category#23, Reviews_Installs_Ratio#24, Size#25, Size_stdev_from_Category#26, Year_of_Last_Update#27L, Year_of_Release#28L, distances#29, features_cluster#30, ... 6 more fields]\n                        +- Relation[AdSupported#7,Age#8L,AppId#9,AppName#10,Category#11,DeveloperId#12,EditorsChoice#13,InApp#14,Installs#15,Installs_stdev_from_Category#16,MinAndroid#17,Price#18,Price_stdev_from_Category#19,Quarter_of_Release#20,Rating#21,Rating_Reviews_Ratio#22,Rating_stdev_from_Category#23,Reviews_Installs_Ratio#24,Size#25,Size_stdev_from_Category#26,Year_of_Last_Update#27L,Year_of_Release#28L,distances#29,features_cluster#30,... 5 more fields] json\n"
     ]
    }
   ],
   "source": [
    "#plot_ROC(predictions1)\n",
    "#plot_ROC(predictions2)"
   ]
  },
  {
   "cell_type": "code",
   "execution_count": null,
   "id": "parliamentary-cloud",
   "metadata": {},
   "outputs": [],
   "source": [
    "extractFeatureImportance(model.featureImportances, data_ctest, 'features_classification')"
   ]
  },
  {
   "cell_type": "code",
   "execution_count": 17,
   "id": "extreme-david",
   "metadata": {},
   "outputs": [
    {
     "name": "stdout",
     "output_type": "stream",
     "text": [
      "Filtering...\n",
      "Dataframe of size 44198 for category: Casual\n",
      "Train-test split...\n",
      "Executing grid search, fitting the model...\n",
      "CrossValidatorModel_82ccc37560e7\n"
     ]
    }
   ],
   "source": [
    "category_train = 'Casual' # categoria principale di addestramento\n",
    "category_test = 'Arcade' # categoria su cui si vuole testare\n",
    "\n",
    "print('Filtering...')\n",
    "data_ctrain = data.filter(data.Category == category_train)\n",
    "data_ctest = data.filter(data.Category == category_test)\n",
    "print('Dataframe of size', data_ctrain.count(), \"for category:\", category_train)\n",
    "\n",
    "print('Train-test split...')\n",
    "train, test = data_ctrain.randomSplit([0.7, 0.3], seed=0)\n",
    "\n",
    "# set the model\n",
    "model = LinearSVC(labelCol=\"Appeal\", featuresCol=\"features_classification\")\n",
    "# set parameter grid\n",
    "paramGrid = ParamGridBuilder()\\\n",
    "    .addGrid(model.tol, [1e-06, 1e-05, 1e-04,1e-03, 1e-07, 1e-08]) \\\n",
    "    .addGrid(model.regParam, [0.0, 0.01, 0.1 ])\\\n",
    "    .addGrid(model.fitIntercept, [True, False])\\\n",
    "    .build()\n",
    "    \n",
    "print('Executing grid search, fitting the model...')\n",
    "model = grid_search(train, model, paramGrid)\n",
    "\n"
   ]
  },
  {
   "cell_type": "code",
   "execution_count": 18,
   "id": "russian-interpretation",
   "metadata": {},
   "outputs": [
    {
     "name": "stdout",
     "output_type": "stream",
     "text": [
      "{}\n"
     ]
    }
   ],
   "source": [
    "params = ['impurity', 'maxDepth', 'maxBins']\n",
    "get_params(model, params)"
   ]
  },
  {
   "cell_type": "code",
   "execution_count": 19,
   "id": "typical-perception",
   "metadata": {},
   "outputs": [
    {
     "name": "stdout",
     "output_type": "stream",
     "text": [
      "Predicting on test set (Casual)\n",
      "Evaluating on test set(Casual)\n",
      "Model Performance Measure\n",
      "Accuracy = 0.51\n",
      "Specificity = 0.00\n",
      "Precision = 0.51\n",
      "Recall = 1.00\n",
      "F1-score = 0.67\n",
      "AUC = 0.65\n"
     ]
    },
    {
     "data": {
      "image/png": "[encoded data removed]",
      "text/plain": [
       "<Figure size 432x288 with 2 Axes>"
      ]
     },
     "metadata": {
      "needs_background": "light"
     },
     "output_type": "display_data"
    }
   ],
   "source": [
    "print(f'Predicting on test set ({category_train})')\n",
    "predictions1 = model.transform(data_ctrain)\n",
    "print(f'Evaluating on test set({category_train})')\n",
    "evaluate(predictions1)\n"
   ]
  },
  {
   "cell_type": "code",
   "execution_count": 20,
   "id": "fitting-commercial",
   "metadata": {},
   "outputs": [
    {
     "name": "stdout",
     "output_type": "stream",
     "text": [
      "Predicting on test set (Arcade)\n",
      "Evaluating on test set(Arcade)\n",
      "Model Performance Measure\n",
      "Accuracy = 0.51\n",
      "Specificity = 0.00\n",
      "Precision = 0.51\n",
      "Recall = 1.00\n",
      "F1-score = 0.68\n",
      "AUC = 0.61\n"
     ]
    },
    {
     "data": {
      "image/png": "[encoded data removed]",
      "text/plain": [
       "<Figure size 432x288 with 2 Axes>"
      ]
     },
     "metadata": {
      "needs_background": "light"
     },
     "output_type": "display_data"
    }
   ],
   "source": [
    "print(f'Predicting on test set ({category_test})')\n",
    "predictions2 = model.transform(data_ctest)\n",
    "print(f'Evaluating on test set({category_test})')\n",
    "evaluate(predictions2)\n"
   ]
  },
  {
   "cell_type": "code",
   "execution_count": null,
   "id": "rocky-sherman",
   "metadata": {},
   "outputs": [],
   "source": [
    "plot_ROC(predictions1)\n",
    "plot_ROC(predictions2)"
   ]
  },
  {
   "cell_type": "code",
   "execution_count": null,
   "id": "ranging-combination",
   "metadata": {},
   "outputs": [],
   "source": [
    "extractFeatureImportance(model.featureImportances, data_ctest, 'features_classification')"
   ]
  },
  {
   "cell_type": "code",
   "execution_count": null,
   "id": "adjustable-budget",
   "metadata": {},
   "outputs": [],
   "source": [
    "data_ctest.crosstab('Appeal','AdSupported').show()"
   ]
  },
  {
   "cell_type": "code",
   "execution_count": null,
   "id": "lonely-daisy",
   "metadata": {},
   "outputs": [],
   "source": []
  },
  {
   "cell_type": "code",
   "execution_count": null,
   "id": "serial-postcard",
   "metadata": {},
   "outputs": [],
   "source": [
    "category_train = 'Casual' # categoria principale di addestramento\n",
    "category_test = 'Arcade' # categoria su cui si vuole testare\n",
    "\n",
    "print('Filtering...')\n",
    "data_ctrain = data.filter(data.Category == category_train)\n",
    "data_ctest = data.filter(data.Category == category_test)\n",
    "print('Dataframe of size', data_ctrain.count(), \"for category:\", category_train)\n",
    "\n",
    "print('Train-test split...')\n",
    "train, test = data_ctrain.randomSplit([0.7, 0.3], seed=0)\n",
    "\n",
    "# set the model\n",
    "model = LinearSVC(labelCol=\"Appeal\", featuresCol=\"features_classification\")\n",
    "# set parameter grid\n",
    "paramGrid = ParamGridBuilder()\\\n",
    "    .addGrid(model.tol, [1e-06, 1e-05, 1e-04,1e-03, 1e-07, 1e-08]) \\\n",
    "    .addGrid(model.regParam, [0.0, 0.01, 0.1 ])\\\n",
    "    .addGrid(model.fitIntercept, [True, False])\\\n",
    "    .build()\n",
    "    \n",
    "print('Executing grid search, fitting the model...')\n",
    "model = grid_search(train, model, paramGrid)\n",
    "\n"
   ]
  },
  {
   "cell_type": "code",
   "execution_count": null,
   "id": "surface-times",
   "metadata": {},
   "outputs": [],
   "source": []
  },
  {
   "cell_type": "code",
   "execution_count": null,
   "id": "impossible-trinity",
   "metadata": {},
   "outputs": [],
   "source": []
  },
  {
   "cell_type": "code",
   "execution_count": null,
   "id": "partial-horror",
   "metadata": {},
   "outputs": [],
   "source": []
  },
  {
   "cell_type": "code",
   "execution_count": 21,
   "id": "animal-blade",
   "metadata": {},
   "outputs": [
    {
     "name": "stdout",
     "output_type": "stream",
     "text": [
      "Filtering...\n",
      "Dataframe of size 226114 for category: Education\n",
      "Train-test split...\n",
      "Executing grid search, fitting the model...\n",
      "CrossValidatorModel_38394b088620\n"
     ]
    }
   ],
   "source": [
    "category_train = 'Education' # categoria principale di addestramento\n",
    "category_test = 'Music & Audio' # categoria su cui si vuole testare\n",
    "\n",
    "print('Filtering...')\n",
    "data_ctrain = data.filter(data.Category == category_train)\n",
    "data_ctest = data.filter(data.Category == category_test)\n",
    "print('Dataframe of size', data_ctrain.count(), \"for category:\", category_train)\n",
    "\n",
    "print('Train-test split...')\n",
    "train, test = data_ctrain.randomSplit([0.7, 0.3], seed=0)\n",
    "\n",
    "# set the model\n",
    "model = LinearSVC(labelCol=\"Appeal\", featuresCol=\"features_classification\")\n",
    "# set parameter grid\n",
    "paramGrid = ParamGridBuilder()\\\n",
    "    .addGrid(model.tol, [1e-06, 1e-05, 1e-04,1e-03, 1e-07, 1e-08]) \\\n",
    "    .addGrid(model.regParam, [0.0, 0.01, 0.1 ])\\\n",
    "    .addGrid(model.fitIntercept, [True, False])\\\n",
    "    .build()\n",
    "    \n",
    "print('Executing grid search, fitting the model...')\n",
    "model = grid_search(train, model, paramGrid)\n",
    "\n"
   ]
  },
  {
   "cell_type": "code",
   "execution_count": 22,
   "id": "broad-occupation",
   "metadata": {},
   "outputs": [
    {
     "name": "stdout",
     "output_type": "stream",
     "text": [
      "Predicting on test set (Education)\n",
      "Evaluating on test set(Education)\n",
      "Model Performance Measure\n",
      "Accuracy = 0.57\n",
      "Specificity = 0.64\n",
      "Precision = 0.55\n",
      "Recall = 0.50\n",
      "F1-score = 0.52\n",
      "AUC = 0.65\n"
     ]
    },
    {
     "data": {
      "image/png": "[encoded data removed]",
      "text/plain": [
       "<Figure size 432x288 with 2 Axes>"
      ]
     },
     "metadata": {
      "needs_background": "light"
     },
     "output_type": "display_data"
    }
   ],
   "source": [
    "print(f'Predicting on test set ({category_train})')\n",
    "predictions1 = model.transform(data_ctrain)\n",
    "print(f'Evaluating on test set({category_train})')\n",
    "evaluate(predictions1)\n"
   ]
  },
  {
   "cell_type": "code",
   "execution_count": 23,
   "id": "employed-diagnosis",
   "metadata": {},
   "outputs": [
    {
     "name": "stdout",
     "output_type": "stream",
     "text": [
      "Predicting on test set (Music & Audio)\n",
      "Evaluating on test set(Music & Audio)\n",
      "Model Performance Measure\n",
      "Accuracy = 0.48\n",
      "Specificity = 0.19\n",
      "Precision = 0.47\n",
      "Recall = 0.79\n",
      "F1-score = 0.59\n",
      "AUC = 0.61\n"
     ]
    },
    {
     "data": {
      "image/png": "[encoded data removed]",
      "text/plain": [
       "<Figure size 432x288 with 2 Axes>"
      ]
     },
     "metadata": {
      "needs_background": "light"
     },
     "output_type": "display_data"
    }
   ],
   "source": [
    "print(f'Predicting on test set ({category_test})')\n",
    "predictions2 = model.transform(data_ctest)\n",
    "print(f'Evaluating on test set({category_test})')\n",
    "evaluate(predictions2)\n"
   ]
  },
  {
   "cell_type": "code",
   "execution_count": null,
   "id": "blank-workshop",
   "metadata": {},
   "outputs": [],
   "source": []
  }
 ],
 "metadata": {
  "kernelspec": {
   "display_name": "Python 3",
   "language": "python",
   "name": "python3"
  },
  "language_info": {
   "codemirror_mode": {
    "name": "ipython",
    "version": 3
   },
   "file_extension": ".py",
   "mimetype": "text/x-python",
   "name": "python",
   "nbconvert_exporter": "python",
   "pygments_lexer": "ipython3",
   "version": "3.8.10"
  }
 },
 "nbformat": 4,
 "nbformat_minor": 5
}
