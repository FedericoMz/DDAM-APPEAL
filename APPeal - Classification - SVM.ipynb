{
 "cells": [
  {
   "cell_type": "markdown",
   "id": "processed-picture",
   "metadata": {},
   "source": [
    "# APPeal: Classificazione"
   ]
  },
  {
   "cell_type": "markdown",
   "id": "photographic-garbage",
   "metadata": {},
   "source": [
    "## Import librerie e inizializzazione dello Spark Context"
   ]
  },
  {
   "cell_type": "code",
   "execution_count": 1,
   "id": "russian-blocking",
   "metadata": {},
   "outputs": [],
   "source": [
    "from pyspark.ml import Pipeline\n",
    "\n",
    "from pyspark.ml.classification import DecisionTreeClassifier, RandomForestClassifier, LinearSVC\n",
    "from pyspark.mllib.tree import DecisionTree as DT\n",
    "from pyspark.mllib.tree import DecisionTreeModel, LabeledPoint\n",
    "\n",
    "from pyspark.ml.feature import IndexToString, StringIndexer, VectorIndexer\n",
    "from pyspark.ml.feature import MinMaxScaler\n",
    "from pyspark.ml.feature import VectorAssembler\n",
    "\n",
    "from pyspark.ml.evaluation import MulticlassClassificationEvaluator\n",
    "from pyspark.ml.evaluation import BinaryClassificationEvaluator\n",
    "from pyspark.mllib.evaluation import BinaryClassificationMetrics\n",
    "from pyspark.ml.tuning import ParamGridBuilder, CrossValidator\n",
    "\n",
    "from pyspark.sql import SparkSession\n",
    "from pyspark.sql.functions import udf\n",
    "from pyspark.sql import Row\n",
    "\n",
    "from pyspark.sql.types import IntegerType\n",
    "\n",
    "import os\n",
    "import numpy as np\n",
    "import seaborn as sns\n",
    "import matplotlib.pyplot as plt\n",
    "import random\n",
    "import pandas as pd\n",
    "\n",
    "from sklearn import neighbors\n",
    "\n",
    "from pyspark import SparkContext\n",
    "sc = SparkContext.getOrCreate()\n",
    "\n",
    "spark = SparkSession.builder.getOrCreate()"
   ]
  },
  {
   "cell_type": "code",
   "execution_count": 2,
   "id": "invalid-grocery",
   "metadata": {},
   "outputs": [],
   "source": [
    "data = spark.read.option(\"header\",True).option('inferSchema', True).json(\"no_outlier_KMeans_v3.json\")"
   ]
  },
  {
   "cell_type": "code",
   "execution_count": 3,
   "id": "practical-collect",
   "metadata": {},
   "outputs": [
    {
     "name": "stdout",
     "output_type": "stream",
     "text": [
      "root\n",
      " |-- AdSupported: boolean (nullable = true)\n",
      " |-- Age: long (nullable = true)\n",
      " |-- AppId: string (nullable = true)\n",
      " |-- AppName: string (nullable = true)\n",
      " |-- Category: string (nullable = true)\n",
      " |-- DeveloperId: string (nullable = true)\n",
      " |-- EditorsChoice: boolean (nullable = true)\n",
      " |-- InApp: boolean (nullable = true)\n",
      " |-- Installs: double (nullable = true)\n",
      " |-- Installs_stdev_from_Category: double (nullable = true)\n",
      " |-- MinAndroid: double (nullable = true)\n",
      " |-- Price: double (nullable = true)\n",
      " |-- Price_stdev_from_Category: double (nullable = true)\n",
      " |-- Quarter_of_Release: string (nullable = true)\n",
      " |-- Rating: double (nullable = true)\n",
      " |-- Rating_Reviews_Ratio: double (nullable = true)\n",
      " |-- Rating_stdev_from_Category: double (nullable = true)\n",
      " |-- Reviews_Installs_Ratio: double (nullable = true)\n",
      " |-- Size: double (nullable = true)\n",
      " |-- Size_stdev_from_Category: double (nullable = true)\n",
      " |-- Year_of_Last_Update: long (nullable = true)\n",
      " |-- Year_of_Release: long (nullable = true)\n",
      " |-- distances: double (nullable = true)\n",
      " |-- features_cluster: struct (nullable = true)\n",
      " |    |-- indices: array (nullable = true)\n",
      " |    |    |-- element: long (containsNull = true)\n",
      " |    |-- size: long (nullable = true)\n",
      " |    |-- type: long (nullable = true)\n",
      " |    |-- values: array (nullable = true)\n",
      " |    |    |-- element: double (containsNull = true)\n",
      " |-- nReviews: double (nullable = true)\n",
      " |-- nReviews_stdev_from_Category: double (nullable = true)\n",
      " |-- position: long (nullable = true)\n",
      " |-- prediction: long (nullable = true)\n",
      " |-- standardized: struct (nullable = true)\n",
      " |    |-- indices: array (nullable = true)\n",
      " |    |    |-- element: long (containsNull = true)\n",
      " |    |-- size: long (nullable = true)\n",
      " |    |-- type: long (nullable = true)\n",
      " |    |-- values: array (nullable = true)\n",
      " |    |    |-- element: double (containsNull = true)\n",
      "\n"
     ]
    }
   ],
   "source": [
    "data.printSchema()"
   ]
  },
  {
   "cell_type": "markdown",
   "id": "continental-depth",
   "metadata": {},
   "source": [
    "### definizione funzioni"
   ]
  },
  {
   "cell_type": "code",
   "execution_count": 4,
   "id": "brutal-asset",
   "metadata": {},
   "outputs": [],
   "source": [
    "def getAppeal(value):\n",
    "    \"\"\"\n",
    "    Defines target variable\n",
    "    \"\"\"\n",
    "    if float(value) >= 3.5:\n",
    "        return 1\n",
    "    else:\n",
    "        return 0\n",
    "\n",
    "def save_clf(clf, version, directory='models'):\n",
    "    \"\"\"\n",
    "    Saves classifier to models directory\n",
    "    \"\"\"\n",
    "    if not os.path.isdir(directory):\n",
    "        os.mkdir(directory)\n",
    "        print(f\"Directory {directory} created\")\n",
    "    \n",
    "    filename = f'{directory}/{str(type(clf)).split(\".\")[-1][:-2]}-{version}.model'\n",
    "\n",
    "    if not os.path.isfile(filename):\n",
    "        clf.save(filename)\n",
    "        print('Model saved:', filename)\n",
    "    else:\n",
    "        print('File already exists:', filename)\n",
    "        \n",
    "def load_clf(base, filename, directory='models'):\n",
    "    \"\"\"\n",
    "    Loads MLib clfier\n",
    "    \"\"\"\n",
    "    file = os.path.join(directory, filename)\n",
    "\n",
    "    clf = base.load(file)\n",
    "    print('Model loaded:', filename)\n",
    "    return clf\n",
    "\n",
    "def grid_search(train, model, paramGrid):\n",
    "    crossval = CrossValidator(estimator=model,\n",
    "                      estimatorParamMaps=paramGrid,\n",
    "                      evaluator=BinaryClassificationEvaluator().setLabelCol(\"Appeal\"),\n",
    "                      numFolds=5)  # imposto a 5 per la 5-fold cv\n",
    "    fit_model = crossval.fit(train)\n",
    "    print(fit_model)\n",
    "    bestModel = fit_model.bestModel\n",
    "    return bestModel\n",
    "\n",
    "def get_params(model, params):\n",
    "    \"\"\"\n",
    "    Prints model parameters\n",
    "    \"\"\"\n",
    "    extract_par = model.extractParamMap()\n",
    "    best_parameters = {}\n",
    "    for par in params:\n",
    "        if model.hasParam(par):\n",
    "            best_parameters[par] = extract_par[model.getParam(par)]\n",
    "    print(best_parameters)\n",
    "\n",
    "def scale_data(data):\n",
    "    scaler = MinMaxScaler(inputCol='features_classification',outputCol='features_standardized')\n",
    "    scaled = scaler.fit(data).transform(data)\n",
    "    return scaled\n",
    "\n",
    "def my_confusion_matrix(cfm):\n",
    "    group_names = ['TN','FP','FN','TP']\n",
    "\n",
    "    group_counts = [\"{0:0.0f}\".format(value) for value in\n",
    "                cfm.flatten()]\n",
    "\n",
    "    group_percentages = [\"{0:.2%}\".format(value) for value in\n",
    "                     cfm.flatten()/np.sum(cfm)]\n",
    "\n",
    "    labels = [f\"{v1}\\n{v2}\\n{v3}\" for v1, v2, v3 in\n",
    "          zip(group_names,group_counts,group_percentages)]\n",
    "\n",
    "    labels = np.asarray(labels).reshape(2,2)\n",
    "\n",
    "    sns.heatmap(cfm, annot=labels, fmt=\"\", cmap='Blues')\n",
    "    plt.ylabel('True Label', fontsize=12)\n",
    "    plt.xlabel('Predicted',fontsize=12)\n",
    "\n",
    "def evaluate(predictions):\n",
    "    \"\"\"\n",
    "    Prints evaluation metrics\n",
    "    Plots confusion matrix\n",
    "    \"\"\"\n",
    " \n",
    "    evaluator = BinaryClassificationEvaluator(labelCol=\"Appeal\")\n",
    "    AUC  = evaluator.evaluate(predictions)\n",
    "    \n",
    "    cm = predictions.crosstab(\"prediction\", \"Appeal\").toPandas()\n",
    "    \n",
    "    # calculate \n",
    "    TP = cm[\"1\"][0]\n",
    "    FP = cm[\"0\"][0]\n",
    "    TN = cm[\"0\"][1]\n",
    "    FN = cm[\"1\"][1]\n",
    "    Accuracy = (TP+TN)/(TP+FP+TN+FN)\n",
    "    Recall = TP/(TP+FN)\n",
    "    Specificity = TN/(TN+FP)\n",
    "    Precision = TP/(TP+FP)\n",
    "    F1 = 2 * ((Precision * Recall)/(Precision + Recall))\n",
    "    print(\"Model Performance Measure\")\n",
    "    print (\"Accuracy = %0.2f\" %Accuracy )\n",
    "    print (\"Specificity = %0.2f\" %Specificity )\n",
    "    print (\"Precision = %0.2f\" %Precision )\n",
    "    print (\"Recall = %0.2f\" %Recall )\n",
    "    print (\"F1-score = %0.2f\" %F1 )\n",
    "    \n",
    "    print(\"AUC = %.2f\" % AUC)\n",
    "    \n",
    "    my_confusion_matrix(np.array([[TN, FP],[ FN, TP]]))\n",
    "\n",
    "from sklearn.metrics import roc_curve, auc\n",
    "\n",
    "def plot_ROC(predictions):\n",
    "    PredAndLabels           = predictions.select(\"probability\", \"Appeal\")\n",
    "    PredAndLabels_collect   = PredAndLabels.collect()\n",
    "    PredAndLabels_list      = [(float(i[0][0]), 1.0-float(i[1])) for i in PredAndLabels_collect]\n",
    "    PredAndLabels           = sc.parallelize(PredAndLabels_list)\n",
    "\n",
    "    metrics = BinaryClassificationMetrics(PredAndLabels)\n",
    "\n",
    "    # Area under ROC\n",
    "    print(\"Area under ROC = %.2f\" % metrics.areaUnderROC)\n",
    "\n",
    "    # Visualization\n",
    "    FPR = dict()                                                        # FPR: False Positive Rate\n",
    "    tpr = dict()                                                        # TPR: True Positive Rate\n",
    "    roc_auc = dict()\n",
    "\n",
    "    y_test = [i[1] for i in PredAndLabels_list]\n",
    "    y_score = [i[0] for i in PredAndLabels_list]\n",
    "\n",
    "    fpr, tpr, _ = roc_curve(y_test, y_score)\n",
    "    roc_auc = auc(fpr, tpr)\n",
    "\n",
    "    plt.figure(figsize=(5,4))\n",
    "    plt.plot(fpr, tpr, label='ROC curve (area = %0.2f)' % roc_auc)\n",
    "    plt.plot([0, 1], [0, 1], 'k--')\n",
    "    plt.xlim([0.0, 1.0])\n",
    "    plt.ylim([0.0, 1.05])\n",
    "    plt.xlabel('False Positive Rate')\n",
    "    plt.ylabel('True Positive Rate')\n",
    "    plt.title('ROC Curve')\n",
    "    plt.legend(loc=\"lower right\")\n",
    "    plt.show()"
   ]
  },
  {
   "cell_type": "markdown",
   "id": "enclosed-transmission",
   "metadata": {},
   "source": [
    "### Preprocessing: binarizzazione di rating ed eliminazione features rimaste dal clustering"
   ]
  },
  {
   "cell_type": "code",
   "execution_count": 5,
   "id": "czech-responsibility",
   "metadata": {},
   "outputs": [],
   "source": [
    "data = data.withColumn(\"Appeal\", udf(getAppeal)(\"Rating\"))"
   ]
  },
  {
   "cell_type": "code",
   "execution_count": 6,
   "id": "comfortable-beauty",
   "metadata": {},
   "outputs": [],
   "source": [
    "data = data.withColumn(\"Quarter_of_Release\", data[\"Quarter_of_Release\"].cast(IntegerType()))\n",
    "data = data.withColumn(\"Appeal\", data[\"Appeal\"].cast(IntegerType()))"
   ]
  },
  {
   "cell_type": "code",
   "execution_count": 7,
   "id": "demographic-affect",
   "metadata": {},
   "outputs": [],
   "source": [
    "data = data.drop(\"Rating\",\"prediction\", \"features_cluster\", \"distances\", \"standardized\", \"position\")"
   ]
  },
  {
   "cell_type": "markdown",
   "id": "focal-archives",
   "metadata": {},
   "source": [
    "### Assembling"
   ]
  },
  {
   "cell_type": "code",
   "execution_count": 8,
   "id": "marine-logan",
   "metadata": {},
   "outputs": [],
   "source": [
    "features_classification = [\"Age\",\"EditorsChoice\",\n",
    "                           \"AdSupported\",\"InApp\", \"Price\",\n",
    "                           \"Year_of_Release\",\"Quarter_of_Release\",\n",
    "                           \"Price_stdev_from_Category\", \"Year_of_Last_Update\"]\n",
    "\n",
    "#,\n",
    "                          #\"Installs_stdev_from_Category\"] #, \"Installs\"]\n",
    "    "
   ]
  },
  {
   "cell_type": "code",
   "execution_count": 9,
   "id": "continuous-natural",
   "metadata": {},
   "outputs": [],
   "source": [
    "from pyspark.ml.feature import VectorAssembler\n",
    "\n",
    "assembler = VectorAssembler(inputCols=features_classification, outputCol='features_classification')\n",
    "\n",
    "data = assembler.transform(data)"
   ]
  },
  {
   "cell_type": "code",
   "execution_count": 10,
   "id": "awful-crash",
   "metadata": {},
   "outputs": [],
   "source": [
    "#data.select('features_classification').show(10)"
   ]
  },
  {
   "cell_type": "markdown",
   "id": "latest-component",
   "metadata": {},
   "source": [
    "## Classification Pipeline"
   ]
  },
  {
   "cell_type": "code",
   "execution_count": 10,
   "id": "engaging-white",
   "metadata": {},
   "outputs": [],
   "source": [
    "data_scaled = scale_data(data)"
   ]
  },
  {
   "cell_type": "markdown",
   "id": "divided-crack",
   "metadata": {},
   "source": [
    "### Train-test split"
   ]
  },
  {
   "cell_type": "code",
   "execution_count": 11,
   "id": "specified-guyana",
   "metadata": {
    "scrolled": true
   },
   "outputs": [],
   "source": [
    "train, test = data_scaled.randomSplit([0.7, 0.3], seed=0)"
   ]
  },
  {
   "cell_type": "code",
   "execution_count": 12,
   "id": "signal-julian",
   "metadata": {},
   "outputs": [
    {
     "name": "stdout",
     "output_type": "stream",
     "text": [
      "+---------------------------------+-----------------------+------+\n",
      "|                          AppName|features_classification|Appeal|\n",
      "+---------------------------------+-----------------------+------+\n",
      "|당뇨모리 (당뇨병환자를 위한 차...|   (9,[5,6,7,8],[201...|     0|\n",
      "|                  A-1 Towing Inc.|   (9,[5,6,7,8],[201...|     0|\n",
      "|             ThermoAnalytics U...|   (9,[5,6,7,8],[201...|     0|\n",
      "|             2021 Pool and Spa...|   (9,[5,6,7,8],[202...|     0|\n",
      "|             2021 AGA-Tallahas...|   (9,[5,6,7,8],[202...|     0|\n",
      "+---------------------------------+-----------------------+------+\n",
      "only showing top 5 rows\n",
      "\n"
     ]
    }
   ],
   "source": [
    "train.select('AppName', 'features_classification', 'Appeal').show(5)"
   ]
  },
  {
   "cell_type": "markdown",
   "id": "incomplete-belfast",
   "metadata": {},
   "source": [
    "### Hyperparameter tuning"
   ]
  },
  {
   "cell_type": "code",
   "execution_count": 13,
   "id": "qualified-canvas",
   "metadata": {},
   "outputs": [],
   "source": [
    "# set the model\n",
    "model = LinearSVC(labelCol=\"Appeal\", featuresCol=\"features_classification\", standardization=True)\n",
    "\n",
    "# set parameter grid\n",
    "paramGrid = ParamGridBuilder()\\\n",
    "    .addGrid(model.tol, [1e-06, 1e-05, 1e-04,1e-03, 1e-07, 1e-08]) \\\n",
    "    .addGrid(model.regParam, [0.0, 0.01, 0.1 ])\\\n",
    "    .addGrid(model.fitIntercept, [True, False])\\\n",
    "    .build()\n",
    "    "
   ]
  },
  {
   "cell_type": "code",
   "execution_count": 35,
   "id": "medical-console",
   "metadata": {},
   "outputs": [
    {
     "name": "stdout",
     "output_type": "stream",
     "text": [
      "CrossValidatorModel_833c08bb5990\n",
      "CPU times: user 1min 22s, sys: 40.8 s, total: 2min 3s\n",
      "Wall time: 3h 50min 2s\n"
     ]
    }
   ],
   "source": [
    "%%time\n",
    "bestModel = grid_search(train, model, paramGrid)"
   ]
  },
  {
   "cell_type": "code",
   "execution_count": 36,
   "id": "neural-stand",
   "metadata": {},
   "outputs": [
    {
     "data": {
      "text/plain": [
       "LinearSVCModel: uid=LinearSVC_005566d8a9c9, numClasses=2, numFeatures=9"
      ]
     },
     "execution_count": 36,
     "metadata": {},
     "output_type": "execute_result"
    }
   ],
   "source": [
    "bestModel"
   ]
  },
  {
   "cell_type": "code",
   "execution_count": 14,
   "id": "organic-match",
   "metadata": {},
   "outputs": [
    {
     "name": "stdout",
     "output_type": "stream",
     "text": [
      "{'tol': 1e-06, 'regParam': 0.1, 'fitIntercept': True}\n"
     ]
    }
   ],
   "source": [
    "params = ['tol', 'regParam', 'fitIntercept']\n",
    "get_params(bestModel, params)"
   ]
  },
  {
   "cell_type": "code",
   "execution_count": 14,
   "id": "constitutional-article",
   "metadata": {},
   "outputs": [],
   "source": [
    "bestModel = LinearSVC(labelCol=\"Appeal\", featuresCol=\"features_classification\", \n",
    "                                   regParam=0.1, fitIntercept=True)\\\n",
    "            .fit(train)"
   ]
  },
  {
   "cell_type": "code",
   "execution_count": 15,
   "id": "bored-aberdeen",
   "metadata": {},
   "outputs": [],
   "source": [
    "#save_clf(bestModel, 0)"
   ]
  },
  {
   "cell_type": "markdown",
   "id": "early-travel",
   "metadata": {},
   "source": [
    "### Evaluation"
   ]
  },
  {
   "cell_type": "code",
   "execution_count": 16,
   "id": "pediatric-continent",
   "metadata": {
    "scrolled": true
   },
   "outputs": [],
   "source": [
    "predictions = bestModel.transform(test)"
   ]
  },
  {
   "cell_type": "code",
   "execution_count": 15,
   "id": "thousand-defeat",
   "metadata": {},
   "outputs": [
    {
     "ename": "NameError",
     "evalue": "name 'ExtractFeatureImportance' is not defined",
     "output_type": "error",
     "traceback": [
      "\u001b[0;31m---------------------------------------------------------------------------\u001b[0m",
      "\u001b[0;31mNameError\u001b[0m                                 Traceback (most recent call last)",
      "\u001b[0;32m<ipython-input-15-8f0a31bb6f3c>\u001b[0m in \u001b[0;36m<module>\u001b[0;34m\u001b[0m\n\u001b[0;32m----> 1\u001b[0;31m \u001b[0mExtractFeatureImportance\u001b[0m\u001b[0;34m(\u001b[0m\u001b[0mbestModel\u001b[0m\u001b[0;34m.\u001b[0m\u001b[0mfeatureImportances\u001b[0m\u001b[0;34m,\u001b[0m \u001b[0mtest\u001b[0m\u001b[0;34m,\u001b[0m \u001b[0;34m'features_classification'\u001b[0m\u001b[0;34m)\u001b[0m\u001b[0;34m\u001b[0m\u001b[0;34m\u001b[0m\u001b[0m\n\u001b[0m",
      "\u001b[0;31mNameError\u001b[0m: name 'ExtractFeatureImportance' is not defined"
     ]
    }
   ],
   "source": [
    "ExtractFeatureImportance(bestModel.featureImportances, test, 'features_classification')"
   ]
  },
  {
   "cell_type": "code",
   "execution_count": 19,
   "id": "valued-sheet",
   "metadata": {
    "scrolled": true
   },
   "outputs": [
    {
     "name": "stdout",
     "output_type": "stream",
     "text": [
      "Model Performance Measure\n",
      "Accuracy = 0.58\n",
      "Specificity = 0.57\n",
      "Precision = 0.53\n",
      "Recall = 0.59\n",
      "F1-score = 0.56\n",
      "AUC = 0.66\n"
     ]
    },
    {
     "data": {
      "image/png": "[encoded data removed]",
      "text/plain": [
       "<Figure size 432x288 with 2 Axes>"
      ]
     },
     "metadata": {
      "needs_background": "light"
     },
     "output_type": "display_data"
    }
   ],
   "source": [
    "evaluate(predictions)"
   ]
  },
  {
   "cell_type": "code",
   "execution_count": 18,
   "id": "pursuant-anaheim",
   "metadata": {},
   "outputs": [
    {
     "ename": "AnalysisException",
     "evalue": "cannot resolve '`probability`' given input columns: [AdSupported, Age, AppId, AppName, Appeal, Category, DeveloperId, EditorsChoice, InApp, Installs, Installs_stdev_from_Category, MinAndroid, Price, Price_stdev_from_Category, Quarter_of_Release, Rating_Reviews_Ratio, Rating_stdev_from_Category, Reviews_Installs_Ratio, Size, Size_stdev_from_Category, Year_of_Last_Update, Year_of_Release, features_classification, features_standardized, nReviews, nReviews_stdev_from_Category, prediction, rawPrediction];\n'Project ['probability, Appeal#128]\n+- Project [AdSupported#7, Age#8L, AppId#9, AppName#10, Category#11, DeveloperId#12, EditorsChoice#13, InApp#14, Installs#15, Installs_stdev_from_Category#16, MinAndroid#17, Price#18, Price_stdev_from_Category#19, Quarter_of_Release#97, Rating_Reviews_Ratio#22, Rating_stdev_from_Category#23, Reviews_Installs_Ratio#24, Size#25, Size_stdev_from_Category#26, Year_of_Last_Update#27L, Year_of_Release#28L, nReviews#31, nReviews_stdev_from_Category#32, Appeal#128, ... 4 more fields]\n   +- Project [AdSupported#7, Age#8L, AppId#9, AppName#10, Category#11, DeveloperId#12, EditorsChoice#13, InApp#14, Installs#15, Installs_stdev_from_Category#16, MinAndroid#17, Price#18, Price_stdev_from_Category#19, Quarter_of_Release#97, Rating_Reviews_Ratio#22, Rating_stdev_from_Category#23, Reviews_Installs_Ratio#24, Size#25, Size_stdev_from_Category#26, Year_of_Last_Update#27L, Year_of_Release#28L, nReviews#31, nReviews_stdev_from_Category#32, Appeal#128, ... 3 more fields]\n      +- Sample 0.7, 1.0, false, 0\n         +- Sort [AdSupported#7 ASC NULLS FIRST, Age#8L ASC NULLS FIRST, AppId#9 ASC NULLS FIRST, AppName#10 ASC NULLS FIRST, Category#11 ASC NULLS FIRST, DeveloperId#12 ASC NULLS FIRST, EditorsChoice#13 ASC NULLS FIRST, InApp#14 ASC NULLS FIRST, Installs#15 ASC NULLS FIRST, Installs_stdev_from_Category#16 ASC NULLS FIRST, MinAndroid#17 ASC NULLS FIRST, Price#18 ASC NULLS FIRST, Price_stdev_from_Category#19 ASC NULLS FIRST, Quarter_of_Release#97 ASC NULLS FIRST, Rating_Reviews_Ratio#22 ASC NULLS FIRST, Rating_stdev_from_Category#23 ASC NULLS FIRST, Reviews_Installs_Ratio#24 ASC NULLS FIRST, Size#25 ASC NULLS FIRST, Size_stdev_from_Category#26 ASC NULLS FIRST, Year_of_Last_Update#27L ASC NULLS FIRST, Year_of_Release#28L ASC NULLS FIRST, nReviews#31 ASC NULLS FIRST, nReviews_stdev_from_Category#32 ASC NULLS FIRST, Appeal#128 ASC NULLS FIRST, ... 2 more fields], false\n            +- Project [AdSupported#7, Age#8L, AppId#9, AppName#10, Category#11, DeveloperId#12, EditorsChoice#13, InApp#14, Installs#15, Installs_stdev_from_Category#16, MinAndroid#17, Price#18, Price_stdev_from_Category#19, Quarter_of_Release#97, Rating_Reviews_Ratio#22, Rating_stdev_from_Category#23, Reviews_Installs_Ratio#24, Size#25, Size_stdev_from_Category#26, Year_of_Last_Update#27L, Year_of_Release#28L, nReviews#31, nReviews_stdev_from_Category#32, Appeal#128, ... 2 more fields]\n               +- Project [AdSupported#7, Age#8L, AppId#9, AppName#10, Category#11, DeveloperId#12, EditorsChoice#13, InApp#14, Installs#15, Installs_stdev_from_Category#16, MinAndroid#17, Price#18, Price_stdev_from_Category#19, Quarter_of_Release#97, Rating_Reviews_Ratio#22, Rating_stdev_from_Category#23, Reviews_Installs_Ratio#24, Size#25, Size_stdev_from_Category#26, Year_of_Last_Update#27L, Year_of_Release#28L, nReviews#31, nReviews_stdev_from_Category#32, Appeal#128, UDF(struct(Age_double_VectorAssembler_fdc2e2e22e9d, cast(Age#8L as double), EditorsChoice_double_VectorAssembler_fdc2e2e22e9d, cast(EditorsChoice#13 as double), AdSupported_double_VectorAssembler_fdc2e2e22e9d, cast(AdSupported#7 as double), InApp_double_VectorAssembler_fdc2e2e22e9d, cast(InApp#14 as double), Price, Price#18, Year_of_Release_double_VectorAssembler_fdc2e2e22e9d, cast(Year_of_Release#28L as double), Quarter_of_Release_double_VectorAssembler_fdc2e2e22e9d, cast(Quarter_of_Release#97 as double), Price_stdev_from_Category, Price_stdev_from_Category#19, Year_of_Last_Update_double_VectorAssembler_fdc2e2e22e9d, cast(Year_of_Last_Update#27L as double))) AS features_classification#191]\n                  +- Project [AdSupported#7, Age#8L, AppId#9, AppName#10, Category#11, DeveloperId#12, EditorsChoice#13, InApp#14, Installs#15, Installs_stdev_from_Category#16, MinAndroid#17, Price#18, Price_stdev_from_Category#19, Quarter_of_Release#97, Rating_Reviews_Ratio#22, Rating_stdev_from_Category#23, Reviews_Installs_Ratio#24, Size#25, Size_stdev_from_Category#26, Year_of_Last_Update#27L, Year_of_Release#28L, nReviews#31, nReviews_stdev_from_Category#32, Appeal#128]\n                     +- Project [AdSupported#7, Age#8L, AppId#9, AppName#10, Category#11, DeveloperId#12, EditorsChoice#13, InApp#14, Installs#15, Installs_stdev_from_Category#16, MinAndroid#17, Price#18, Price_stdev_from_Category#19, Quarter_of_Release#97, Rating#21, Rating_Reviews_Ratio#22, Rating_stdev_from_Category#23, Reviews_Installs_Ratio#24, Size#25, Size_stdev_from_Category#26, Year_of_Last_Update#27L, Year_of_Release#28L, distances#29, features_cluster#30, ... 6 more fields]\n                        +- Project [AdSupported#7, Age#8L, AppId#9, AppName#10, Category#11, DeveloperId#12, EditorsChoice#13, InApp#14, Installs#15, Installs_stdev_from_Category#16, MinAndroid#17, Price#18, Price_stdev_from_Category#19, cast(Quarter_of_Release#20 as int) AS Quarter_of_Release#97, Rating#21, Rating_Reviews_Ratio#22, Rating_stdev_from_Category#23, Reviews_Installs_Ratio#24, Size#25, Size_stdev_from_Category#26, Year_of_Last_Update#27L, Year_of_Release#28L, distances#29, features_cluster#30, ... 6 more fields]\n                           +- Project [AdSupported#7, Age#8L, AppId#9, AppName#10, Category#11, DeveloperId#12, EditorsChoice#13, InApp#14, Installs#15, Installs_stdev_from_Category#16, MinAndroid#17, Price#18, Price_stdev_from_Category#19, Quarter_of_Release#20, Rating#21, Rating_Reviews_Ratio#22, Rating_stdev_from_Category#23, Reviews_Installs_Ratio#24, Size#25, Size_stdev_from_Category#26, Year_of_Last_Update#27L, Year_of_Release#28L, distances#29, features_cluster#30, ... 6 more fields]\n                              +- Relation[AdSupported#7,Age#8L,AppId#9,AppName#10,Category#11,DeveloperId#12,EditorsChoice#13,InApp#14,Installs#15,Installs_stdev_from_Category#16,MinAndroid#17,Price#18,Price_stdev_from_Category#19,Quarter_of_Release#20,Rating#21,Rating_Reviews_Ratio#22,Rating_stdev_from_Category#23,Reviews_Installs_Ratio#24,Size#25,Size_stdev_from_Category#26,Year_of_Last_Update#27L,Year_of_Release#28L,distances#29,features_cluster#30,... 5 more fields] json\n",
     "output_type": "error",
     "traceback": [
      "\u001b[0;31m---------------------------------------------------------------------------\u001b[0m",
      "\u001b[0;31mAnalysisException\u001b[0m                         Traceback (most recent call last)",
      "\u001b[0;32m<ipython-input-18-987714cc14b0>\u001b[0m in \u001b[0;36m<module>\u001b[0;34m\u001b[0m\n\u001b[0;32m----> 1\u001b[0;31m \u001b[0mplot_ROC\u001b[0m\u001b[0;34m(\u001b[0m\u001b[0mpredictions\u001b[0m\u001b[0;34m)\u001b[0m\u001b[0;34m\u001b[0m\u001b[0;34m\u001b[0m\u001b[0m\n\u001b[0m",
      "\u001b[0;32m<ipython-input-4-6c9bcc5effd7>\u001b[0m in \u001b[0;36mplot_ROC\u001b[0;34m(predictions)\u001b[0m\n\u001b[1;32m    113\u001b[0m \u001b[0;34m\u001b[0m\u001b[0m\n\u001b[1;32m    114\u001b[0m \u001b[0;32mdef\u001b[0m \u001b[0mplot_ROC\u001b[0m\u001b[0;34m(\u001b[0m\u001b[0mpredictions\u001b[0m\u001b[0;34m)\u001b[0m\u001b[0;34m:\u001b[0m\u001b[0;34m\u001b[0m\u001b[0;34m\u001b[0m\u001b[0m\n\u001b[0;32m--> 115\u001b[0;31m     \u001b[0mPredAndLabels\u001b[0m           \u001b[0;34m=\u001b[0m \u001b[0mpredictions\u001b[0m\u001b[0;34m.\u001b[0m\u001b[0mselect\u001b[0m\u001b[0;34m(\u001b[0m\u001b[0;34m\"probability\"\u001b[0m\u001b[0;34m,\u001b[0m \u001b[0;34m\"Appeal\"\u001b[0m\u001b[0;34m)\u001b[0m\u001b[0;34m\u001b[0m\u001b[0;34m\u001b[0m\u001b[0m\n\u001b[0m\u001b[1;32m    116\u001b[0m     \u001b[0mPredAndLabels_collect\u001b[0m   \u001b[0;34m=\u001b[0m \u001b[0mPredAndLabels\u001b[0m\u001b[0;34m.\u001b[0m\u001b[0mcollect\u001b[0m\u001b[0;34m(\u001b[0m\u001b[0;34m)\u001b[0m\u001b[0;34m\u001b[0m\u001b[0;34m\u001b[0m\u001b[0m\n\u001b[1;32m    117\u001b[0m     \u001b[0mPredAndLabels_list\u001b[0m      \u001b[0;34m=\u001b[0m \u001b[0;34m[\u001b[0m\u001b[0;34m(\u001b[0m\u001b[0mfloat\u001b[0m\u001b[0;34m(\u001b[0m\u001b[0mi\u001b[0m\u001b[0;34m[\u001b[0m\u001b[0;36m0\u001b[0m\u001b[0;34m]\u001b[0m\u001b[0;34m[\u001b[0m\u001b[0;36m0\u001b[0m\u001b[0;34m]\u001b[0m\u001b[0;34m)\u001b[0m\u001b[0;34m,\u001b[0m \u001b[0;36m1.0\u001b[0m\u001b[0;34m-\u001b[0m\u001b[0mfloat\u001b[0m\u001b[0;34m(\u001b[0m\u001b[0mi\u001b[0m\u001b[0;34m[\u001b[0m\u001b[0;36m1\u001b[0m\u001b[0;34m]\u001b[0m\u001b[0;34m)\u001b[0m\u001b[0;34m)\u001b[0m \u001b[0;32mfor\u001b[0m \u001b[0mi\u001b[0m \u001b[0;32min\u001b[0m \u001b[0mPredAndLabels_collect\u001b[0m\u001b[0;34m]\u001b[0m\u001b[0;34m\u001b[0m\u001b[0;34m\u001b[0m\u001b[0m\n",
      "\u001b[0;32m/usr/local/lib/python3.8/dist-packages/pyspark/sql/dataframe.py\u001b[0m in \u001b[0;36mselect\u001b[0;34m(self, *cols)\u001b[0m\n\u001b[1;32m   1667\u001b[0m         \u001b[0;34m[\u001b[0m\u001b[0mRow\u001b[0m\u001b[0;34m(\u001b[0m\u001b[0mname\u001b[0m\u001b[0;34m=\u001b[0m\u001b[0;34m'Alice'\u001b[0m\u001b[0;34m,\u001b[0m \u001b[0mage\u001b[0m\u001b[0;34m=\u001b[0m\u001b[0;36m12\u001b[0m\u001b[0;34m)\u001b[0m\u001b[0;34m,\u001b[0m \u001b[0mRow\u001b[0m\u001b[0;34m(\u001b[0m\u001b[0mname\u001b[0m\u001b[0;34m=\u001b[0m\u001b[0;34m'Bob'\u001b[0m\u001b[0;34m,\u001b[0m \u001b[0mage\u001b[0m\u001b[0;34m=\u001b[0m\u001b[0;36m15\u001b[0m\u001b[0;34m)\u001b[0m\u001b[0;34m]\u001b[0m\u001b[0;34m\u001b[0m\u001b[0;34m\u001b[0m\u001b[0m\n\u001b[1;32m   1668\u001b[0m         \"\"\"\n\u001b[0;32m-> 1669\u001b[0;31m         \u001b[0mjdf\u001b[0m \u001b[0;34m=\u001b[0m \u001b[0mself\u001b[0m\u001b[0;34m.\u001b[0m\u001b[0m_jdf\u001b[0m\u001b[0;34m.\u001b[0m\u001b[0mselect\u001b[0m\u001b[0;34m(\u001b[0m\u001b[0mself\u001b[0m\u001b[0;34m.\u001b[0m\u001b[0m_jcols\u001b[0m\u001b[0;34m(\u001b[0m\u001b[0;34m*\u001b[0m\u001b[0mcols\u001b[0m\u001b[0;34m)\u001b[0m\u001b[0;34m)\u001b[0m\u001b[0;34m\u001b[0m\u001b[0;34m\u001b[0m\u001b[0m\n\u001b[0m\u001b[1;32m   1670\u001b[0m         \u001b[0;32mreturn\u001b[0m \u001b[0mDataFrame\u001b[0m\u001b[0;34m(\u001b[0m\u001b[0mjdf\u001b[0m\u001b[0;34m,\u001b[0m \u001b[0mself\u001b[0m\u001b[0;34m.\u001b[0m\u001b[0msql_ctx\u001b[0m\u001b[0;34m)\u001b[0m\u001b[0;34m\u001b[0m\u001b[0;34m\u001b[0m\u001b[0m\n\u001b[1;32m   1671\u001b[0m \u001b[0;34m\u001b[0m\u001b[0m\n",
      "\u001b[0;32m/usr/local/lib/python3.8/dist-packages/py4j/java_gateway.py\u001b[0m in \u001b[0;36m__call__\u001b[0;34m(self, *args)\u001b[0m\n\u001b[1;32m   1302\u001b[0m \u001b[0;34m\u001b[0m\u001b[0m\n\u001b[1;32m   1303\u001b[0m         \u001b[0manswer\u001b[0m \u001b[0;34m=\u001b[0m \u001b[0mself\u001b[0m\u001b[0;34m.\u001b[0m\u001b[0mgateway_client\u001b[0m\u001b[0;34m.\u001b[0m\u001b[0msend_command\u001b[0m\u001b[0;34m(\u001b[0m\u001b[0mcommand\u001b[0m\u001b[0;34m)\u001b[0m\u001b[0;34m\u001b[0m\u001b[0;34m\u001b[0m\u001b[0m\n\u001b[0;32m-> 1304\u001b[0;31m         return_value = get_return_value(\n\u001b[0m\u001b[1;32m   1305\u001b[0m             answer, self.gateway_client, self.target_id, self.name)\n\u001b[1;32m   1306\u001b[0m \u001b[0;34m\u001b[0m\u001b[0m\n",
      "\u001b[0;32m/usr/local/lib/python3.8/dist-packages/pyspark/sql/utils.py\u001b[0m in \u001b[0;36mdeco\u001b[0;34m(*a, **kw)\u001b[0m\n\u001b[1;32m    115\u001b[0m                 \u001b[0;31m# Hide where the exception came from that shows a non-Pythonic\u001b[0m\u001b[0;34m\u001b[0m\u001b[0;34m\u001b[0m\u001b[0;34m\u001b[0m\u001b[0m\n\u001b[1;32m    116\u001b[0m                 \u001b[0;31m# JVM exception message.\u001b[0m\u001b[0;34m\u001b[0m\u001b[0;34m\u001b[0m\u001b[0;34m\u001b[0m\u001b[0m\n\u001b[0;32m--> 117\u001b[0;31m                 \u001b[0;32mraise\u001b[0m \u001b[0mconverted\u001b[0m \u001b[0;32mfrom\u001b[0m \u001b[0;32mNone\u001b[0m\u001b[0;34m\u001b[0m\u001b[0;34m\u001b[0m\u001b[0m\n\u001b[0m\u001b[1;32m    118\u001b[0m             \u001b[0;32melse\u001b[0m\u001b[0;34m:\u001b[0m\u001b[0;34m\u001b[0m\u001b[0;34m\u001b[0m\u001b[0m\n\u001b[1;32m    119\u001b[0m                 \u001b[0;32mraise\u001b[0m\u001b[0;34m\u001b[0m\u001b[0;34m\u001b[0m\u001b[0m\n",
      "\u001b[0;31mAnalysisException\u001b[0m: cannot resolve '`probability`' given input columns: [AdSupported, Age, AppId, AppName, Appeal, Category, DeveloperId, EditorsChoice, InApp, Installs, Installs_stdev_from_Category, MinAndroid, Price, Price_stdev_from_Category, Quarter_of_Release, Rating_Reviews_Ratio, Rating_stdev_from_Category, Reviews_Installs_Ratio, Size, Size_stdev_from_Category, Year_of_Last_Update, Year_of_Release, features_classification, features_standardized, nReviews, nReviews_stdev_from_Category, prediction, rawPrediction];\n'Project ['probability, Appeal#128]\n+- Project [AdSupported#7, Age#8L, AppId#9, AppName#10, Category#11, DeveloperId#12, EditorsChoice#13, InApp#14, Installs#15, Installs_stdev_from_Category#16, MinAndroid#17, Price#18, Price_stdev_from_Category#19, Quarter_of_Release#97, Rating_Reviews_Ratio#22, Rating_stdev_from_Category#23, Reviews_Installs_Ratio#24, Size#25, Size_stdev_from_Category#26, Year_of_Last_Update#27L, Year_of_Release#28L, nReviews#31, nReviews_stdev_from_Category#32, Appeal#128, ... 4 more fields]\n   +- Project [AdSupported#7, Age#8L, AppId#9, AppName#10, Category#11, DeveloperId#12, EditorsChoice#13, InApp#14, Installs#15, Installs_stdev_from_Category#16, MinAndroid#17, Price#18, Price_stdev_from_Category#19, Quarter_of_Release#97, Rating_Reviews_Ratio#22, Rating_stdev_from_Category#23, Reviews_Installs_Ratio#24, Size#25, Size_stdev_from_Category#26, Year_of_Last_Update#27L, Year_of_Release#28L, nReviews#31, nReviews_stdev_from_Category#32, Appeal#128, ... 3 more fields]\n      +- Sample 0.7, 1.0, false, 0\n         +- Sort [AdSupported#7 ASC NULLS FIRST, Age#8L ASC NULLS FIRST, AppId#9 ASC NULLS FIRST, AppName#10 ASC NULLS FIRST, Category#11 ASC NULLS FIRST, DeveloperId#12 ASC NULLS FIRST, EditorsChoice#13 ASC NULLS FIRST, InApp#14 ASC NULLS FIRST, Installs#15 ASC NULLS FIRST, Installs_stdev_from_Category#16 ASC NULLS FIRST, MinAndroid#17 ASC NULLS FIRST, Price#18 ASC NULLS FIRST, Price_stdev_from_Category#19 ASC NULLS FIRST, Quarter_of_Release#97 ASC NULLS FIRST, Rating_Reviews_Ratio#22 ASC NULLS FIRST, Rating_stdev_from_Category#23 ASC NULLS FIRST, Reviews_Installs_Ratio#24 ASC NULLS FIRST, Size#25 ASC NULLS FIRST, Size_stdev_from_Category#26 ASC NULLS FIRST, Year_of_Last_Update#27L ASC NULLS FIRST, Year_of_Release#28L ASC NULLS FIRST, nReviews#31 ASC NULLS FIRST, nReviews_stdev_from_Category#32 ASC NULLS FIRST, Appeal#128 ASC NULLS FIRST, ... 2 more fields], false\n            +- Project [AdSupported#7, Age#8L, AppId#9, AppName#10, Category#11, DeveloperId#12, EditorsChoice#13, InApp#14, Installs#15, Installs_stdev_from_Category#16, MinAndroid#17, Price#18, Price_stdev_from_Category#19, Quarter_of_Release#97, Rating_Reviews_Ratio#22, Rating_stdev_from_Category#23, Reviews_Installs_Ratio#24, Size#25, Size_stdev_from_Category#26, Year_of_Last_Update#27L, Year_of_Release#28L, nReviews#31, nReviews_stdev_from_Category#32, Appeal#128, ... 2 more fields]\n               +- Project [AdSupported#7, Age#8L, AppId#9, AppName#10, Category#11, DeveloperId#12, EditorsChoice#13, InApp#14, Installs#15, Installs_stdev_from_Category#16, MinAndroid#17, Price#18, Price_stdev_from_Category#19, Quarter_of_Release#97, Rating_Reviews_Ratio#22, Rating_stdev_from_Category#23, Reviews_Installs_Ratio#24, Size#25, Size_stdev_from_Category#26, Year_of_Last_Update#27L, Year_of_Release#28L, nReviews#31, nReviews_stdev_from_Category#32, Appeal#128, UDF(struct(Age_double_VectorAssembler_fdc2e2e22e9d, cast(Age#8L as double), EditorsChoice_double_VectorAssembler_fdc2e2e22e9d, cast(EditorsChoice#13 as double), AdSupported_double_VectorAssembler_fdc2e2e22e9d, cast(AdSupported#7 as double), InApp_double_VectorAssembler_fdc2e2e22e9d, cast(InApp#14 as double), Price, Price#18, Year_of_Release_double_VectorAssembler_fdc2e2e22e9d, cast(Year_of_Release#28L as double), Quarter_of_Release_double_VectorAssembler_fdc2e2e22e9d, cast(Quarter_of_Release#97 as double), Price_stdev_from_Category, Price_stdev_from_Category#19, Year_of_Last_Update_double_VectorAssembler_fdc2e2e22e9d, cast(Year_of_Last_Update#27L as double))) AS features_classification#191]\n                  +- Project [AdSupported#7, Age#8L, AppId#9, AppName#10, Category#11, DeveloperId#12, EditorsChoice#13, InApp#14, Installs#15, Installs_stdev_from_Category#16, MinAndroid#17, Price#18, Price_stdev_from_Category#19, Quarter_of_Release#97, Rating_Reviews_Ratio#22, Rating_stdev_from_Category#23, Reviews_Installs_Ratio#24, Size#25, Size_stdev_from_Category#26, Year_of_Last_Update#27L, Year_of_Release#28L, nReviews#31, nReviews_stdev_from_Category#32, Appeal#128]\n                     +- Project [AdSupported#7, Age#8L, AppId#9, AppName#10, Category#11, DeveloperId#12, EditorsChoice#13, InApp#14, Installs#15, Installs_stdev_from_Category#16, MinAndroid#17, Price#18, Price_stdev_from_Category#19, Quarter_of_Release#97, Rating#21, Rating_Reviews_Ratio#22, Rating_stdev_from_Category#23, Reviews_Installs_Ratio#24, Size#25, Size_stdev_from_Category#26, Year_of_Last_Update#27L, Year_of_Release#28L, distances#29, features_cluster#30, ... 6 more fields]\n                        +- Project [AdSupported#7, Age#8L, AppId#9, AppName#10, Category#11, DeveloperId#12, EditorsChoice#13, InApp#14, Installs#15, Installs_stdev_from_Category#16, MinAndroid#17, Price#18, Price_stdev_from_Category#19, cast(Quarter_of_Release#20 as int) AS Quarter_of_Release#97, Rating#21, Rating_Reviews_Ratio#22, Rating_stdev_from_Category#23, Reviews_Installs_Ratio#24, Size#25, Size_stdev_from_Category#26, Year_of_Last_Update#27L, Year_of_Release#28L, distances#29, features_cluster#30, ... 6 more fields]\n                           +- Project [AdSupported#7, Age#8L, AppId#9, AppName#10, Category#11, DeveloperId#12, EditorsChoice#13, InApp#14, Installs#15, Installs_stdev_from_Category#16, MinAndroid#17, Price#18, Price_stdev_from_Category#19, Quarter_of_Release#20, Rating#21, Rating_Reviews_Ratio#22, Rating_stdev_from_Category#23, Reviews_Installs_Ratio#24, Size#25, Size_stdev_from_Category#26, Year_of_Last_Update#27L, Year_of_Release#28L, distances#29, features_cluster#30, ... 6 more fields]\n                              +- Relation[AdSupported#7,Age#8L,AppId#9,AppName#10,Category#11,DeveloperId#12,EditorsChoice#13,InApp#14,Installs#15,Installs_stdev_from_Category#16,MinAndroid#17,Price#18,Price_stdev_from_Category#19,Quarter_of_Release#20,Rating#21,Rating_Reviews_Ratio#22,Rating_stdev_from_Category#23,Reviews_Installs_Ratio#24,Size#25,Size_stdev_from_Category#26,Year_of_Last_Update#27L,Year_of_Release#28L,distances#29,features_cluster#30,... 5 more fields] json\n"
     ]
    }
   ],
   "source": [
    "plot_ROC(predictions)"
   ]
  },
  {
   "cell_type": "code",
   "execution_count": null,
   "id": "devoted-norwegian",
   "metadata": {},
   "outputs": [],
   "source": [
    "data[data['Appeal'] == 1].groupBy('AdSupported').count().show()"
   ]
  },
  {
   "cell_type": "code",
   "execution_count": null,
   "id": "numerical-musician",
   "metadata": {},
   "outputs": [],
   "source": []
  },
  {
   "cell_type": "code",
   "execution_count": null,
   "id": "identified-consumption",
   "metadata": {},
   "outputs": [],
   "source": []
  }
 ],
 "metadata": {
  "kernelspec": {
   "display_name": "Python 3",
   "language": "python",
   "name": "python3"
  },
  "language_info": {
   "codemirror_mode": {
    "name": "ipython",
    "version": 3
   },
   "file_extension": ".py",
   "mimetype": "text/x-python",
   "name": "python",
   "nbconvert_exporter": "python",
   "pygments_lexer": "ipython3",
   "version": "3.8.10"
  }
 },
 "nbformat": 4,
 "nbformat_minor": 5
}
