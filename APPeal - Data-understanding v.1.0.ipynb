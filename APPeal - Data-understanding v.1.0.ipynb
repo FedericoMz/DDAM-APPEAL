{
 "cells": [
  {
   "cell_type": "code",
   "execution_count": 1,
   "id": "rapid-indonesian",
   "metadata": {},
   "outputs": [],
   "source": [
    "import pandas as pd\n",
    "import matplotlib.pyplot as plt\n",
    "import seaborn as sns\n",
    "import numpy as np\n",
    "import pyspark\n",
    "\n",
    "from pyspark import SparkContext\n",
    "from pyspark.sql import SparkSession\n",
    "from pyspark.sql.functions import avg\n",
    "from pyspark.sql.functions import udf\n",
    "\n",
    "from pyspark.sql.types import FloatType\n",
    "from pyspark.sql.types import BooleanType\n",
    "from pyspark.sql.types import IntegerType\n",
    "from pyspark.sql.types import DateType\n",
    "from pyspark.sql.functions import regexp_replace\n",
    "from pyspark.sql import SQLContext\n",
    "from pyspark.mllib.stat import Statistics\n",
    "from pyspark.sql.functions import col,isnan, when, count\n"
   ]
  },
  {
   "cell_type": "code",
   "execution_count": 2,
   "id": "married-threshold",
   "metadata": {
    "scrolled": true
   },
   "outputs": [],
   "source": [
    "sc = pyspark.SparkContext()"
   ]
  },
  {
   "cell_type": "code",
   "execution_count": 3,
   "id": "spectacular-girlfriend",
   "metadata": {},
   "outputs": [],
   "source": [
    "spark = SparkSession.builder \\\n",
    "    .master(\"local\") \\\n",
    "    .appName(\"AppName\") \\\n",
    "    .getOrCreate()\n",
    "\n",
    "#data = spark.read.option(\"header\",True).option('inferSchema', True).csv(\"Google-Playstore.csv\", sep =',')\n",
    "#data = spark.read.option(\"header\",True).option('inferSchema', True).json(\"cleaned.json\")\n"
   ]
  },
  {
   "cell_type": "code",
   "execution_count": 4,
   "id": "muslim-implement",
   "metadata": {},
   "outputs": [],
   "source": [
    "sqlContext = SQLContext(spark)\n"
   ]
  },
  {
   "cell_type": "code",
   "execution_count": 5,
   "id": "bound-despite",
   "metadata": {},
   "outputs": [],
   "source": [
    "data = spark.read.option(\"header\",True).option('inferSchema', True).csv(\"Google-Playstore.csv\")"
   ]
  },
  {
   "cell_type": "code",
   "execution_count": 6,
   "id": "fiscal-score",
   "metadata": {},
   "outputs": [
    {
     "name": "stdout",
     "output_type": "stream",
     "text": [
      "root\n",
      " |-- App Name: string (nullable = true)\n",
      " |-- App Id: string (nullable = true)\n",
      " |-- Category: string (nullable = true)\n",
      " |-- Rating: string (nullable = true)\n",
      " |-- Rating Count: string (nullable = true)\n",
      " |-- Installs: string (nullable = true)\n",
      " |-- Minimum Installs: string (nullable = true)\n",
      " |-- Maximum Installs: string (nullable = true)\n",
      " |-- Free: string (nullable = true)\n",
      " |-- Price: string (nullable = true)\n",
      " |-- Currency: string (nullable = true)\n",
      " |-- Size: string (nullable = true)\n",
      " |-- Minimum Android: string (nullable = true)\n",
      " |-- Developer Id: string (nullable = true)\n",
      " |-- Developer Website: string (nullable = true)\n",
      " |-- Developer Email: string (nullable = true)\n",
      " |-- Released: string (nullable = true)\n",
      " |-- Last Updated: string (nullable = true)\n",
      " |-- Content Rating: string (nullable = true)\n",
      " |-- Privacy Policy: string (nullable = true)\n",
      " |-- Ad Supported: string (nullable = true)\n",
      " |-- In App Purchases: string (nullable = true)\n",
      " |-- Editors Choice: string (nullable = true)\n",
      " |-- Scraped Time: string (nullable = true)\n",
      "\n"
     ]
    }
   ],
   "source": [
    "data.printSchema()"
   ]
  },
  {
   "cell_type": "code",
   "execution_count": 7,
   "id": "settled-october",
   "metadata": {
    "scrolled": true
   },
   "outputs": [
    {
     "data": {
      "text/plain": [
       "[('App Name', 'string'),\n",
       " ('App Id', 'string'),\n",
       " ('Category', 'string'),\n",
       " ('Rating', 'string'),\n",
       " ('Rating Count', 'string'),\n",
       " ('Installs', 'string'),\n",
       " ('Minimum Installs', 'string'),\n",
       " ('Maximum Installs', 'string'),\n",
       " ('Free', 'string'),\n",
       " ('Price', 'string'),\n",
       " ('Currency', 'string'),\n",
       " ('Size', 'string'),\n",
       " ('Minimum Android', 'string'),\n",
       " ('Developer Id', 'string'),\n",
       " ('Developer Website', 'string'),\n",
       " ('Developer Email', 'string'),\n",
       " ('Released', 'string'),\n",
       " ('Last Updated', 'string'),\n",
       " ('Content Rating', 'string'),\n",
       " ('Privacy Policy', 'string'),\n",
       " ('Ad Supported', 'string'),\n",
       " ('In App Purchases', 'string'),\n",
       " ('Editors Choice', 'string'),\n",
       " ('Scraped Time', 'string')]"
      ]
     },
     "execution_count": 7,
     "metadata": {},
     "output_type": "execute_result"
    }
   ],
   "source": [
    "data.dtypes"
   ]
  },
  {
   "cell_type": "code",
   "execution_count": 8,
   "id": "fifteen-andrews",
   "metadata": {},
   "outputs": [],
   "source": [
    "# Prepariamo Installs e Content Rating alla trasformazione in numeriche\n",
    "data = data.withColumn(\"Installs\", regexp_replace(col(\"Installs\"), \"\\+\", \"\"))\n",
    "data = data.withColumn(\"Installs\", regexp_replace(col(\"Installs\"), \",\", \"\"))\n",
    "data = data.withColumn(\"Rating\", regexp_replace(col(\"Rating\"), \",\", \"\"))\n",
    "data = data.withColumn(\"Size\", regexp_replace(col(\"Size\"), \",\", \".\"))\n",
    "\n",
    "data = data.withColumn(\"Content Rating\", regexp_replace(col(\"Content Rating\"), \"-1\", \"-1\"))\n",
    "data = data.withColumn(\"Content Rating\", regexp_replace(col(\"Content Rating\"), \"Everyone\", \"0\"))\n",
    "data = data.withColumn(\"Content Rating\", regexp_replace(col(\"Content Rating\"), \"Everyone 10+\", \"1\"))\n",
    "data = data.withColumn(\"Content Rating\", regexp_replace(col(\"Content Rating\"), \"Teen\", \"2\"))\n",
    "data = data.withColumn(\"Content Rating\", regexp_replace(col(\"Content Rating\"), \"Mature 17+\", \"3\"))\n",
    "data = data.withColumn(\"Content Rating\", regexp_replace(col(\"Content Rating\"), \"Adults only 18+\", \"4\"))\n",
    "\n",
    "#Convertiamo in float...\n",
    "data = data.withColumn(\"Price\", data[\"Price\"].cast(FloatType()).alias(\"Price\"))\n",
    "data = data.withColumn(\"Rating\", data[\"Rating\"].cast(FloatType()).alias(\"Rating\"))\n",
    "data = data.withColumn(\"Rating Count\", data[\"Rating Count\"].cast(FloatType()).alias(\"Rating Count\"))\n",
    "data = data.withColumn(\"Installs\", data[\"Installs\"].cast(FloatType()).alias(\"Installs\"))\n",
    "data = data.withColumn(\"Minimum Android\", data[\"Minimum Android\"][0:3].cast(FloatType()).alias(\"Minimum Android\"))\n",
    "data = data.withColumn(\"Content Rating\", data[\"Content Rating\"].cast(IntegerType()).alias(\"Content Rating\"))\n"
   ]
  },
  {
   "cell_type": "code",
   "execution_count": 8,
   "id": "immediate-willow",
   "metadata": {},
   "outputs": [],
   "source": [
    "data = data.withColumnRenamed(\"Ad Supported\", \"adSupported\")\n",
    "data = data.withColumnRenamed(\"Minimum Android\", \"MinimumAndroid\")\n",
    "data = data.withColumnRenamed(\"In App Purchases\", \"inAppPurchases\")\n",
    "data = data.withColumnRenamed(\"App Name\", \"AppName\")\n"
   ]
  },
  {
   "cell_type": "code",
   "execution_count": 91,
   "id": "micro-genetics",
   "metadata": {},
   "outputs": [
    {
     "name": "stdout",
     "output_type": "stream",
     "text": [
      "+-------+--------------------+--------------------+--------------+------------------+------------------+--------------------+--------------------+--------------------+------------------+------------------+------------------+------------------+------------------+--------------------+-----------------+--------------------+---------------+------------------+-------------------+-----------------------+--------------------+--------------------+--------------------+-------------------+\n",
      "|summary|             AppName|              App Id|      Category|            Rating|      Rating Count|            Installs|    Minimum Installs|    Maximum Installs|              Free|             Price|          Currency|              Size|    MinimumAndroid|        Developer Id|Developer Website|     Developer Email|       Released|      Last Updated|     Content Rating|         Privacy Policy|         adSupported|      inAppPurchases|      Editors Choice|       Scraped Time|\n",
      "+-------+--------------------+--------------------+--------------+------------------+------------------+--------------------+--------------------+--------------------+------------------+------------------+------------------+------------------+------------------+--------------------+-----------------+--------------------+---------------+------------------+-------------------+-----------------------+--------------------+--------------------+--------------------+-------------------+\n",
      "|  count|             2312944|             2312944|       2312944|           2290031|           2290050|             2312836|             2312837|             2312944|           2312944|           2312925|           2312809|           2312748|           2260180|             2312911|          1552118|             2312906|        2241889|           2312944|            2218421|                1891997|             2312940|             2312942|             2312944|            2312944|\n",
      "|   mean|            Infinity|                null|          null| 2.203143276241894|2864.7917774721072|   183443.0052843349|  183444.43167953554|   320199.1094302734|17480.206896551725|2.2744623215996014|       456349.9495|               0.0| 4.349831454183342|            Infinity|             null|                null|           null|              null|0.17703763172094025|                   null|                null|                null|                null|               null|\n",
      "| stddev|                 NaN|                null|          null|2.1062203858926427|212163.06141953653|1.5131442000635022E7|1.5131500873746514E7|2.3555005086574133E7| 48855.19147394333|3287.6877801998216|2040858.5488238432|               0.0|1.0077364041729575|                 NaN|             null|                null|           null|              null| 0.5680960181828986|                   null|                null|                null|                null|               null|\n",
      "|    min|                   !| Banyak Jual Beli !\"|  Quick notes\"|               0.0|               0.0|                 0.0|                   0|                   0|                 0|               0.0|                 0|                 0|               0.0|         \bTranAnhDuc|             LLC\"|\tdoquochentasy@gm...|    Apr 1, 2010|      Apr 01, 2011|                  0|           Dec 02, 2020|            Everyone|            Everyone|               False|2021-06-15 20:19:35|\n",
      "|    max|󠁧󠁢󠁥󠁮󠁧󠁿Radio...|         동요\"\"단어\"|고양이 쇼핑몰\"|               5.0|      1.38557568E8|              1.0E10|                   6|               99996|              True|         5000000.0|               ZAR|Varies with device|             788.0|🧙🏼Lucrezia - MM...|    Олегъ Лавровъ|              냥아지|web@skysent.com|yaj_info@yaj.co.kr|                  2|https://외식잡.com/r...|https://меркурий....|https://sites.goo...|https://yanosik.p...|               True|\n",
      "+-------+--------------------+--------------------+--------------+------------------+------------------+--------------------+--------------------+--------------------+------------------+------------------+------------------+------------------+------------------+--------------------+-----------------+--------------------+---------------+------------------+-------------------+-----------------------+--------------------+--------------------+--------------------+-------------------+\n",
      "\n"
     ]
    }
   ],
   "source": [
    "data.describe().show()"
   ]
  },
  {
   "cell_type": "code",
   "execution_count": null,
   "id": "contemporary-october",
   "metadata": {},
   "outputs": [],
   "source": [
    "data.dtypes"
   ]
  },
  {
   "cell_type": "code",
   "execution_count": 39,
   "id": "honest-breakdown",
   "metadata": {},
   "outputs": [
    {
     "name": "stdout",
     "output_type": "stream",
     "text": [
      "+--------+------+--------+------+------------+--------+----------------+----------------+----+-----+--------+----+---------------+------------+-----------------+---------------+--------+------------+--------------+--------------+------------+----------------+--------------+------------+\n",
      "|App Name|App Id|Category|Rating|Rating Count|Installs|Minimum Installs|Maximum Installs|Free|Price|Currency|Size|Minimum Android|Developer Id|Developer Website|Developer Email|Released|Last Updated|Content Rating|Privacy Policy|Ad Supported|In App Purchases|Editors Choice|Scraped Time|\n",
      "+--------+------+--------+------+------------+--------+----------------+----------------+----+-----+--------+----+---------------+------------+-----------------+---------------+--------+------------+--------------+--------------+------------+----------------+--------------+------------+\n",
      "|       0|     0|       0| 22913|       22894|     108|             107|               0|   0|   19|     135| 196|          52764|          33|           760826|             38|   71055|           0|         94523|        420947|           4|               2|             0|           0|\n",
      "+--------+------+--------+------+------------+--------+----------------+----------------+----+-----+--------+----+---------------+------------+-----------------+---------------+--------+------------+--------------+--------------+------------+----------------+--------------+------------+\n",
      "\n"
     ]
    }
   ],
   "source": [
    "data.select([count(when(isnan(c) | col(c).isNull(), c)).alias(c) for c in data.columns]).show()\n"
   ]
  },
  {
   "cell_type": "markdown",
   "id": "legendary-clinton",
   "metadata": {},
   "source": [
    "## Basic statistics\n"
   ]
  },
  {
   "cell_type": "code",
   "execution_count": null,
   "id": "classified-drunk",
   "metadata": {},
   "outputs": [],
   "source": [
    "num_cols = [\"Installs\", \"nReviews\", \"Rating\", \"Price\", \"MinimumAndroid\", \"Appeal\"]\n",
    "\n",
    "data.select(num_cols).describe().show()\n"
   ]
  },
  {
   "cell_type": "code",
   "execution_count": null,
   "id": "measured-function",
   "metadata": {},
   "outputs": [],
   "source": [
    "data.select(num_cols).summary().show()\n"
   ]
  },
  {
   "cell_type": "code",
   "execution_count": null,
   "id": "dental-serve",
   "metadata": {},
   "outputs": [],
   "source": [
    "numeric_features = [x[0] for x in data.dtypes if x[1]==\"int\" or x[1]==\"float\" or x[1] == \"double\"]\n",
    "sampled_data = data.select(numeric_features).sample(False, 0.8).toPandas()\n",
    "axs = pd.plotting.scatter_matrix(sampled_data, figsize=(10, 10))\n",
    "n = len(sampled_data.columns)\n",
    "for i in range(n):\n",
    "    v = axs[i, 0]\n",
    "    v.yaxis.label.set_rotation(0)\n",
    "    v.yaxis.label.set_ha('right')\n",
    "    v.set_yticks(())\n",
    "    h = axs[n-1, i]\n",
    "    h.xaxis.label.set_rotation(90)\n",
    "    h.set_xticks(())"
   ]
  },
  {
   "cell_type": "markdown",
   "id": "colonial-blake",
   "metadata": {},
   "source": [
    "## Plot"
   ]
  },
  {
   "cell_type": "markdown",
   "id": "korean-testimony",
   "metadata": {},
   "source": [
    "### Creazione di una vista per effettuare le query "
   ]
  },
  {
   "cell_type": "code",
   "execution_count": 9,
   "id": "wrapped-relay",
   "metadata": {},
   "outputs": [],
   "source": [
    "data.createOrReplaceTempView(\"viewPlot\")"
   ]
  },
  {
   "cell_type": "markdown",
   "id": "nasty-thesis",
   "metadata": {},
   "source": [
    "#### Numero di app in ciascuna categoria"
   ]
  },
  {
   "cell_type": "code",
   "execution_count": 41,
   "id": "chemical-purpose",
   "metadata": {},
   "outputs": [
    {
     "name": "stdout",
     "output_type": "stream",
     "text": [
      "+-----------------+------+\n",
      "|         Category|   tot|\n",
      "+-----------------+------+\n",
      "|        Education|241086|\n",
      "|    Music & Audio|154905|\n",
      "|            Tools|143987|\n",
      "|         Business|143770|\n",
      "|    Entertainment|138271|\n",
      "|        Lifestyle|118331|\n",
      "|Books & Reference|116726|\n",
      "|  Personalization| 89210|\n",
      "| Health & Fitness| 83510|\n",
      "|     Productivity| 79695|\n",
      "|         Shopping| 75253|\n",
      "|     Food & Drink| 73926|\n",
      "|   Travel & Local| 67288|\n",
      "|          Finance| 65465|\n",
      "|           Arcade| 53792|\n",
      "|           Puzzle| 51168|\n",
      "|           Casual| 50813|\n",
      "|    Communication| 48167|\n",
      "|           Sports| 47483|\n",
      "|           Social| 44733|\n",
      "+-----------------+------+\n",
      "only showing top 20 rows\n",
      "\n"
     ]
    }
   ],
   "source": [
    "categoryNumber = sqlContext.sql(\"\"\"SELECT Category, COUNT(*) as tot \n",
    "                                    FROM viewPlot \n",
    "                                    GROUP BY category \n",
    "                                    ORDER BY tot desc\"\"\")\n",
    "categoryNumber.show()"
   ]
  },
  {
   "cell_type": "code",
   "execution_count": 43,
   "id": "recorded-watson",
   "metadata": {
    "scrolled": true
   },
   "outputs": [
    {
     "data": {
      "image/png": "[encoded data removed]",
      "text/plain": [
       "<Figure size 1080x576 with 1 Axes>"
      ]
     },
     "metadata": {
      "needs_background": "light"
     },
     "output_type": "display_data"
    }
   ],
   "source": [
    "categoryNumberPlot = categoryNumber.toPandas()\n",
    "\n",
    "plt.figure(figsize = (15,8))\n",
    "sns.barplot(x = \"Category\", y = \"tot\", data  = categoryNumberPlot[:10], palette=\"rocket\")\n",
    "plt.xticks(rotation=30, fontsize='14')\n",
    "plt.yticks(fontsize='14')\n",
    "plt.ylabel(\"\")\n",
    "plt.xlabel(\"\")\n",
    "plt.tight_layout\n",
    "plt.title(\"Number of app by category\", fontsize='20')\n",
    "plt.show()"
   ]
  },
  {
   "cell_type": "markdown",
   "id": "ongoing-recorder",
   "metadata": {},
   "source": [
    "#### Appeal per categoria"
   ]
  },
  {
   "cell_type": "code",
   "execution_count": 25,
   "id": "experienced-devices",
   "metadata": {},
   "outputs": [
    {
     "name": "stdout",
     "output_type": "stream",
     "text": [
      "+-------------+------+\n",
      "|     category|Appeal|\n",
      "+-------------+------+\n",
      "|Music & Audio|     0|\n",
      "|Music & Audio|     1|\n",
      "|Music & Audio|     0|\n",
      "|Music & Audio|     0|\n",
      "|Music & Audio|     0|\n",
      "|Music & Audio|     0|\n",
      "|Music & Audio|     0|\n",
      "|Music & Audio|     0|\n",
      "|Music & Audio|     1|\n",
      "|Music & Audio|     0|\n",
      "|Music & Audio|     0|\n",
      "|Music & Audio|     1|\n",
      "|Music & Audio|     0|\n",
      "|Music & Audio|     0|\n",
      "|Music & Audio|     1|\n",
      "|Music & Audio|     0|\n",
      "|Music & Audio|     0|\n",
      "|Music & Audio|     1|\n",
      "|Music & Audio|     0|\n",
      "|Music & Audio|     1|\n",
      "+-------------+------+\n",
      "only showing top 20 rows\n",
      "\n"
     ]
    },
    {
     "data": {
      "text/plain": [
       "<Figure size 1440x720 with 0 Axes>"
      ]
     },
     "metadata": {},
     "output_type": "display_data"
    }
   ],
   "source": [
    "appeal_category = sqlContext.sql(\"\"\"SELECT category, Appeal\n",
    "                                    FROM viewPlot \n",
    "                                    \"\"\")\n",
    "plt.figure(figsize = (20,10))\n",
    "appeal_category.show()"
   ]
  },
  {
   "cell_type": "code",
   "execution_count": null,
   "id": "destroyed-webmaster",
   "metadata": {},
   "outputs": [],
   "source": [
    "plt.figure(figsize = (15,8))\n",
    "\n",
    "category_appeal_plot = appeal_category.toPandas()\n",
    "\n",
    "sns.countplot(x='category',hue='Appeal',data=category_appeal_plot, palette=\"tab20b\", \n",
    "             order=category_appeal_plot.category.value_counts().iloc[:10].index)\n",
    "plt.xticks(rotation=30, fontsize='7')\n",
    "plt.yticks(fontsize='8')\n",
    "plt.ylabel(\"Number of app\")\n",
    "plt.title(\"Appeal by category\")\n",
    "plt.show()"
   ]
  },
  {
   "cell_type": "markdown",
   "id": "precise-accountability",
   "metadata": {},
   "source": [
    "#### Rating medio per categoria"
   ]
  },
  {
   "cell_type": "code",
   "execution_count": 9,
   "id": "geographic-trader",
   "metadata": {},
   "outputs": [
    {
     "name": "stdout",
     "output_type": "stream",
     "text": [
      "+--------------------+------------------+\n",
      "|            category|       avg(rating)|\n",
      "+--------------------+------------------+\n",
      "|       Music & Audio| 2.226824850719996|\n",
      "|           Education|2.2468225311926124|\n",
      "|              Trivia|2.5261784584102687|\n",
      "|     Auto & Vehicles| 2.049612834137347|\n",
      "|        Quick notes\"|              null|\n",
      "|       Entertainment|2.4354052028868614|\n",
      "|fr.visionreelle.B...|              null|\n",
      "|           Adventure| 2.814991004868682|\n",
      "|com.free074a81ba9...|              null|\n",
      "|              Arcade|2.4504809646643357|\n",
      "|    CHEER UP(CCC)\"\"\"|              null|\n",
      "|net.cleverbit.Mic...|              null|\n",
      "|              Sports|2.3155445043837792|\n",
      "|      Travel & Local|1.9211963940963501|\n",
      "|        Food & Drink|1.2945808316654184|\n",
      "|banglarhymes.ntss...|              null|\n",
      "|        Role Playing|3.3844982885828023|\n",
      "|               aves\"|              null|\n",
      "|             Finance|2.4030697207277085|\n",
      "|     Personalization| 2.758753873719551|\n",
      "+--------------------+------------------+\n",
      "only showing top 20 rows\n",
      "\n"
     ]
    }
   ],
   "source": [
    "categoryRating = data.groupBy(\"category\").avg(\"rating\").show()\n"
   ]
  },
  {
   "cell_type": "code",
   "execution_count": 10,
   "id": "supposed-synthetic",
   "metadata": {
    "scrolled": true
   },
   "outputs": [
    {
     "name": "stdout",
     "output_type": "stream",
     "text": [
      "+--------------------+----------+---------+\n",
      "|             AppName|rating_avg| Installs|\n",
      "+--------------------+----------+---------+\n",
      "|Flying Ghost Robo...|       5.0|1000000.0|\n",
      "|Mechanical Excava...|       5.0|1000000.0|\n",
      "|Flying Robot Supe...|       5.0|1000000.0|\n",
      "|Wolf Robot Transf...|       5.0|1000000.0|\n",
      "|Dog Robot Transfo...|       5.0| 500000.0|\n",
      "|Ant Robot Car Tra...|       5.0| 500000.0|\n",
      "|Car Wash Service ...|       5.0| 500000.0|\n",
      "|Sand Safari Jeep ...|       5.0| 100000.0|\n",
      "|Flying Limo Car T...|       5.0| 100000.0|\n",
      "|FPS Commando Shoo...|       5.0| 100000.0|\n",
      "|Dragon Robot Hors...|       5.0| 100000.0|\n",
      "|Spider Crane Robo...|       5.0| 100000.0|\n",
      "|Flying Horse Robo...|       5.0| 100000.0|\n",
      "|Horse Robot Trans...|       5.0| 100000.0|\n",
      "|Electric Car Stun...|       5.0|  50000.0|\n",
      "|Heavy Trash Truck...|       5.0|  50000.0|\n",
      "|US Police CyberTr...|       5.0|  50000.0|\n",
      "|Dino Robot Car Ga...|       5.0|  50000.0|\n",
      "|Emergency Fire Tr...|       5.0|  50000.0|\n",
      "|Army Stuntman Bik...|       5.0|  50000.0|\n",
      "+--------------------+----------+---------+\n",
      "only showing top 20 rows\n",
      "\n"
     ]
    }
   ],
   "source": [
    "## visualiziamo anche le migliori app per categoria (partendo dalla top 5)\n",
    "\n",
    "categoryRating = sqlContext.sql(\"\"\"SELECT AppName, rating AS rating_avg, Installs\n",
    "                                    FROM viewPlot \n",
    "                                    WHERE Category = 'Weather'\n",
    "                                    ORDER BY rating_avg DESC, Installs DESC\"\"\")\n",
    "categoryRating.show()"
   ]
  },
  {
   "cell_type": "code",
   "execution_count": 18,
   "id": "active-jewel",
   "metadata": {},
   "outputs": [
    {
     "name": "stdout",
     "output_type": "stream",
     "text": [
      "+--------------------+------------------+\n",
      "|            category|        rating_avg|\n",
      "+--------------------+------------------+\n",
      "|        Role Playing|3.3844982885828023|\n",
      "|              Casino|3.2796822202241174|\n",
      "|          Simulation|3.2108871649004502|\n",
      "|             Weather| 3.120294525997836|\n",
      "|                Card| 3.085160326385806|\n",
      "|              Racing| 2.960233858728779|\n",
      "|Video Players & E...|2.9038420088971755|\n",
      "|                Word|2.9020762455428453|\n",
      "|            Strategy| 2.878900084171941|\n",
      "|              Comics|2.8649060628127647|\n",
      "|           Adventure| 2.814991004868682|\n",
      "|               Board|2.7821585888425138|\n",
      "|     Personalization| 2.758753873719551|\n",
      "|              Action|2.7059790497145757|\n",
      "|              Puzzle|2.6882790595351738|\n",
      "|               Music| 2.662008201359494|\n",
      "|              Trivia|2.5261784584102687|\n",
      "|         Photography|2.5197648766728986|\n",
      "|    News & Magazines|2.4836006676483584|\n",
      "|   Books & Reference| 2.467201757134877|\n",
      "+--------------------+------------------+\n",
      "only showing top 20 rows\n",
      "\n"
     ]
    }
   ],
   "source": [
    "categoryRating = sqlContext.sql(\"\"\"SELECT category, AVG(rating) AS rating_avg \n",
    "                                    FROM viewPlot \n",
    "                                    GROUP BY category\n",
    "                                    ORDER BY rating_avg DESC\"\"\")\n",
    "categoryRating.show()"
   ]
  },
  {
   "cell_type": "code",
   "execution_count": 46,
   "id": "identified-transcript",
   "metadata": {},
   "outputs": [],
   "source": [
    "categoryRatingPandas = categoryRating.toPandas()\n"
   ]
  },
  {
   "cell_type": "code",
   "execution_count": 51,
   "id": "banned-trout",
   "metadata": {},
   "outputs": [
    {
     "data": {
      "image/png": "[encoded data removed]",
      "text/plain": [
       "<Figure size 1440x720 with 1 Axes>"
      ]
     },
     "metadata": {
      "needs_background": "light"
     },
     "output_type": "display_data"
    }
   ],
   "source": [
    "plt.figure(figsize = (20,10))\n",
    "sns.barplot(x = \"category\", y = \"rating_avg\", data  = categoryRatingPandas[:10], palette=\"rocket\")\n",
    "plt.xticks(rotation=30, fontsize='10')\n",
    "plt.yticks(fontsize='13')\n",
    "plt.ylabel(\"Category\")\n",
    "plt.xlabel(\"Rating (average)\")\n",
    "\n",
    "plt.title(\"Average app rating by category\")\n",
    "plt.show()"
   ]
  },
  {
   "cell_type": "code",
   "execution_count": 52,
   "id": "interpreted-lottery",
   "metadata": {},
   "outputs": [
    {
     "data": {
      "text/html": [
       "<div>\n",
       "<style scoped>\n",
       "    .dataframe tbody tr th:only-of-type {\n",
       "        vertical-align: middle;\n",
       "    }\n",
       "\n",
       "    .dataframe tbody tr th {\n",
       "        vertical-align: top;\n",
       "    }\n",
       "\n",
       "    .dataframe thead th {\n",
       "        text-align: right;\n",
       "    }\n",
       "</style>\n",
       "<table border=\"1\" class=\"dataframe\">\n",
       "  <thead>\n",
       "    <tr style=\"text-align: right;\">\n",
       "      <th></th>\n",
       "      <th>category</th>\n",
       "      <th>rating_avg</th>\n",
       "    </tr>\n",
       "  </thead>\n",
       "  <tbody>\n",
       "    <tr>\n",
       "      <th>30</th>\n",
       "      <td>Education</td>\n",
       "      <td>2.246823</td>\n",
       "    </tr>\n",
       "  </tbody>\n",
       "</table>\n",
       "</div>"
      ],
      "text/plain": [
       "     category  rating_avg\n",
       "30  Education    2.246823"
      ]
     },
     "execution_count": 52,
     "metadata": {},
     "output_type": "execute_result"
    }
   ],
   "source": [
    "categoryRatingPandas[categoryRatingPandas[\"category\"]== \"Education\"]"
   ]
  },
  {
   "cell_type": "code",
   "execution_count": 53,
   "id": "still-battlefield",
   "metadata": {},
   "outputs": [
    {
     "data": {
      "text/html": [
       "<div>\n",
       "<style scoped>\n",
       "    .dataframe tbody tr th:only-of-type {\n",
       "        vertical-align: middle;\n",
       "    }\n",
       "\n",
       "    .dataframe tbody tr th {\n",
       "        vertical-align: top;\n",
       "    }\n",
       "\n",
       "    .dataframe thead th {\n",
       "        text-align: right;\n",
       "    }\n",
       "</style>\n",
       "<table border=\"1\" class=\"dataframe\">\n",
       "  <thead>\n",
       "    <tr style=\"text-align: right;\">\n",
       "      <th></th>\n",
       "      <th>category</th>\n",
       "      <th>rating_avg</th>\n",
       "    </tr>\n",
       "  </thead>\n",
       "  <tbody>\n",
       "    <tr>\n",
       "      <th>27</th>\n",
       "      <td>Social</td>\n",
       "      <td>2.398922</td>\n",
       "    </tr>\n",
       "  </tbody>\n",
       "</table>\n",
       "</div>"
      ],
      "text/plain": [
       "   category  rating_avg\n",
       "27   Social    2.398922"
      ]
     },
     "execution_count": 53,
     "metadata": {},
     "output_type": "execute_result"
    }
   ],
   "source": [
    "categoryRatingPandas[categoryRatingPandas[\"category\"]== \"Social\"]"
   ]
  },
  {
   "cell_type": "markdown",
   "id": "fuzzy-cargo",
   "metadata": {},
   "source": [
    "### Ad Supported"
   ]
  },
  {
   "cell_type": "code",
   "execution_count": 149,
   "id": "inner-florence",
   "metadata": {},
   "outputs": [
    {
     "name": "stdout",
     "output_type": "stream",
     "text": [
      "+-----------------+-----------+\n",
      "|         category|adSupported|\n",
      "+-----------------+-----------+\n",
      "|        Adventure|      False|\n",
      "|            Tools|       True|\n",
      "|     Productivity|      False|\n",
      "|    Communication|       True|\n",
      "|            Tools|      False|\n",
      "|           Social|      False|\n",
      "| Libraries & Demo|       True|\n",
      "|        Lifestyle|      False|\n",
      "|    Communication|      False|\n",
      "|  Personalization|       True|\n",
      "|           Racing|      False|\n",
      "|Maps & Navigation|      False|\n",
      "|   Travel & Local|       True|\n",
      "|Maps & Navigation|      False|\n",
      "|   Travel & Local|      False|\n",
      "|     Food & Drink|      False|\n",
      "|   Travel & Local|      False|\n",
      "|            Tools|      False|\n",
      "|        Lifestyle|      False|\n",
      "|Books & Reference|       True|\n",
      "+-----------------+-----------+\n",
      "only showing top 20 rows\n",
      "\n"
     ]
    }
   ],
   "source": [
    "adSupport = sqlContext.sql(\"\"\"SELECT category, adSupported\n",
    "                                FROM viewPlot \n",
    "                                \"\"\")\n",
    "adSupport.show()"
   ]
  },
  {
   "cell_type": "code",
   "execution_count": 144,
   "id": "committed-removal",
   "metadata": {
    "scrolled": true
   },
   "outputs": [],
   "source": [
    "adSupportPandas = adSupport.toPandas()\n"
   ]
  },
  {
   "cell_type": "code",
   "execution_count": 145,
   "id": "abstract-capture",
   "metadata": {},
   "outputs": [],
   "source": [
    "adsupp_dict = {\"False\": 0, \"True\": 1}\n",
    "adSupportPandas['adSupported'] = adSupportPandas['adSupported'].map(adsupp_dict)\n"
   ]
  },
  {
   "cell_type": "code",
   "execution_count": 150,
   "id": "powered-paint",
   "metadata": {},
   "outputs": [
    {
     "data": {
      "text/plain": [
       "0.0    1162150\n",
       "1.0    1150750\n",
       "Name: adSupported, dtype: int64"
      ]
     },
     "execution_count": 150,
     "metadata": {},
     "output_type": "execute_result"
    }
   ],
   "source": [
    "adSupportPandas.adSupported.value_counts()"
   ]
  },
  {
   "cell_type": "code",
   "execution_count": 52,
   "id": "special-marks",
   "metadata": {},
   "outputs": [
    {
     "data": {
      "text/plain": [
       "Text(0.5, 1.0, 'adSupported app')"
      ]
     },
     "execution_count": 52,
     "metadata": {},
     "output_type": "execute_result"
    },
    {
     "data": {
      "image/png": "[encoded data removed]",
      "text/plain": [
       "<Figure size 432x288 with 1 Axes>"
      ]
     },
     "metadata": {
      "needs_background": "light"
     },
     "output_type": "display_data"
    }
   ],
   "source": [
    "sns.countplot(x = adSupportPandas['adSupported'], palette='tab20b')\n",
    "plt.title(\"adSupported app\", fontsize='15')"
   ]
  },
  {
   "cell_type": "code",
   "execution_count": 89,
   "id": "embedded-assurance",
   "metadata": {},
   "outputs": [],
   "source": [
    "ct = pd.crosstab(adSupportPandas.category, adSupportPandas.adSupported, margins=None)\n",
    "norm_ct = ct.div(ct.sum(1).astype(float), axis=0)"
   ]
  },
  {
   "cell_type": "code",
   "execution_count": 135,
   "id": "physical-simulation",
   "metadata": {},
   "outputs": [
    {
     "data": {
      "text/plain": [
       "Text(0.5, 1.0, 'AdSupported app ratio per category')"
      ]
     },
     "execution_count": 135,
     "metadata": {},
     "output_type": "execute_result"
    },
    {
     "data": {
      "image/png": "[encoded data removed]",
      "text/plain": [
       "<Figure size 648x432 with 1 Axes>"
      ]
     },
     "metadata": {
      "needs_background": "light"
     },
     "output_type": "display_data"
    }
   ],
   "source": [
    "norm_ct.sort_values(by=0)[:10].plot(kind = \"bar\",stacked = True, figsize = (9, 6), colormap = \"RdYlBu\")\n",
    "plt.title(\"AdSupported app ratio per category\")"
   ]
  },
  {
   "cell_type": "markdown",
   "id": "conservative-communication",
   "metadata": {},
   "source": [
    "### Minimum Android Ver"
   ]
  },
  {
   "cell_type": "code",
   "execution_count": 162,
   "id": "assisted-perfume",
   "metadata": {},
   "outputs": [
    {
     "name": "stdout",
     "output_type": "stream",
     "text": [
      "+-----------------+--------------+\n",
      "|         category|MinimumAndroid|\n",
      "+-----------------+--------------+\n",
      "|        Adventure|           7.1|\n",
      "|            Tools|           5.0|\n",
      "|     Productivity|           4.0|\n",
      "|    Communication|           4.0|\n",
      "|            Tools|           4.1|\n",
      "|           Social|           6.0|\n",
      "| Libraries & Demo|           4.1|\n",
      "|        Lifestyle|           5.0|\n",
      "|    Communication|           4.4|\n",
      "|  Personalization|           4.1|\n",
      "|           Racing|           4.4|\n",
      "|Maps & Navigation|           4.0|\n",
      "|   Travel & Local|           4.2|\n",
      "|Maps & Navigation|           6.0|\n",
      "|   Travel & Local|           4.2|\n",
      "|     Food & Drink|           4.4|\n",
      "|   Travel & Local|           4.4|\n",
      "|            Tools|           4.1|\n",
      "|        Lifestyle|           4.1|\n",
      "|Books & Reference|           4.2|\n",
      "+-----------------+--------------+\n",
      "only showing top 20 rows\n",
      "\n"
     ]
    }
   ],
   "source": [
    "minAndroid = sqlContext.sql(\"\"\"SELECT category, MinimumAndroid\n",
    "                                FROM viewPlot \n",
    "                                \"\"\")\n",
    "minAndroid.show()"
   ]
  },
  {
   "cell_type": "code",
   "execution_count": 185,
   "id": "marine-transaction",
   "metadata": {},
   "outputs": [],
   "source": [
    "minAndroidPandas = minumumAndroid.toPandas()\n"
   ]
  },
  {
   "cell_type": "code",
   "execution_count": 186,
   "id": "better-peoples",
   "metadata": {},
   "outputs": [
    {
     "data": {
      "text/plain": [
       "4.1      604525\n",
       "4.4      402854\n",
       "5.0      397006\n",
       "4.0      334048\n",
       "4.2      115980\n",
       "6.0       89931\n",
       "2.3       87197\n",
       "5.1       59290\n",
       "4.3       41363\n",
       "7.0       34446\n",
       "2.2       23770\n",
       "3.0       17135\n",
       "2.1       16719\n",
       "8.0       13831\n",
       "1.6        8549\n",
       "2.0        3221\n",
       "7.1        3044\n",
       "3.2        2685\n",
       "1.5        2100\n",
       "3.1        2003\n",
       "1.0         309\n",
       "1.1         166\n",
       "788.0         1\n",
       "3.8           1\n",
       "8.4           1\n",
       "7.9           1\n",
       "6.9           1\n",
       "3.5           1\n",
       "1.9           1\n",
       "0.0           1\n",
       "Name: MinimumAndroid, dtype: int64"
      ]
     },
     "execution_count": 186,
     "metadata": {},
     "output_type": "execute_result"
    }
   ],
   "source": [
    "minAndroidPandas.MinimumAndroid.value_counts()"
   ]
  },
  {
   "cell_type": "code",
   "execution_count": 170,
   "id": "affiliated-destiny",
   "metadata": {},
   "outputs": [
    {
     "data": {
      "text/plain": [
       "<matplotlib.legend.Legend at 0x7f89a4d873a0>"
      ]
     },
     "execution_count": 170,
     "metadata": {},
     "output_type": "execute_result"
    },
    {
     "data": {
      "image/png": "[encoded data removed]",
      "text/plain": [
       "<Figure size 648x432 with 1 Axes>"
      ]
     },
     "metadata": {
      "needs_background": "light"
     },
     "output_type": "display_data"
    }
   ],
   "source": [
    "norm_ct = ct.div(ct.sum(1).astype(float), axis=0)\n",
    "norm_ct.sort_values(by=0)[:10].plot(kind = \"bar\",stacked = True, figsize = (9, 6), colormap = \"RdYlBu\")\n",
    "plt.title(\"Min. Android version\")\n",
    "plt.legend(\"\")"
   ]
  },
  {
   "cell_type": "markdown",
   "id": "suspected-subdivision",
   "metadata": {},
   "source": [
    "### Price"
   ]
  },
  {
   "cell_type": "code",
   "execution_count": 101,
   "id": "recognized-delivery",
   "metadata": {},
   "outputs": [
    {
     "name": "stdout",
     "output_type": "stream",
     "text": [
      "+-----------------------+---------+\n",
      "|               category|    price|\n",
      "+-----------------------+---------+\n",
      "|                   navi|5000000.0|\n",
      "|              RK PAY\"\"\"|  10159.0|\n",
      "| 마음을 다스리는 글\"\")\"|   4106.0|\n",
      "|           far high.\"\"\"|   3725.0|\n",
      "|         고양이 쇼핑몰\"|   2108.0|\n",
      "|     \"\" mp3 Collection\"|    864.0|\n",
      "|           Productivity|    400.0|\n",
      "|           Productivity|   399.99|\n",
      "|      Books & Reference|   399.99|\n",
      "|                 Social|   399.99|\n",
      "|                  Tools|   399.99|\n",
      "|               Business|   399.99|\n",
      "|                 Social|   399.99|\n",
      "|          Entertainment|   399.99|\n",
      "|               Shopping|   399.99|\n",
      "|          Entertainment|   399.99|\n",
      "|                 Arcade|   399.99|\n",
      "|       Health & Fitness|   399.99|\n",
      "|                 Casual|   399.99|\n",
      "|                  Tools|   399.99|\n",
      "+-----------------------+---------+\n",
      "only showing top 20 rows\n",
      "\n"
     ]
    }
   ],
   "source": [
    "avg_price_df = sqlContext.sql(\"\"\"SELECT category, price\n",
    "                                    FROM viewPlot \n",
    "                                    ORDER BY price DESC\"\"\")\n",
    "avg_price_df.show()"
   ]
  },
  {
   "cell_type": "code",
   "execution_count": 111,
   "id": "brutal-addiction",
   "metadata": {},
   "outputs": [],
   "source": [
    "avg_price_pandas = avg_price_df.toPandas()\n"
   ]
  },
  {
   "cell_type": "code",
   "execution_count": 112,
   "id": "helpful-accent",
   "metadata": {},
   "outputs": [],
   "source": [
    "avg_price_pandas = avg_price_pandas[avg_price_pandas[\"price\"]>0]"
   ]
  },
  {
   "cell_type": "code",
   "execution_count": 113,
   "id": "colored-emergency",
   "metadata": {},
   "outputs": [],
   "source": [
    "avg_price = avg_price_pandas.groupby(\"category\").mean().sort_values(by= \"price\", ascending=True)\n"
   ]
  },
  {
   "cell_type": "code",
   "execution_count": 114,
   "id": "crucial-deviation",
   "metadata": {},
   "outputs": [],
   "source": [
    "clean = avg_price[:-30]"
   ]
  },
  {
   "cell_type": "code",
   "execution_count": 115,
   "id": "sorted-alias",
   "metadata": {},
   "outputs": [],
   "source": [
    "clean = clean.sort_values(by= \"price\", ascending=False).reset_index()"
   ]
  },
  {
   "cell_type": "code",
   "execution_count": 116,
   "id": "banned-youth",
   "metadata": {},
   "outputs": [
    {
     "data": {
      "text/html": [
       "<div>\n",
       "<style scoped>\n",
       "    .dataframe tbody tr th:only-of-type {\n",
       "        vertical-align: middle;\n",
       "    }\n",
       "\n",
       "    .dataframe tbody tr th {\n",
       "        vertical-align: top;\n",
       "    }\n",
       "\n",
       "    .dataframe thead th {\n",
       "        text-align: right;\n",
       "    }\n",
       "</style>\n",
       "<table border=\"1\" class=\"dataframe\">\n",
       "  <thead>\n",
       "    <tr style=\"text-align: right;\">\n",
       "      <th></th>\n",
       "      <th>category</th>\n",
       "      <th>price</th>\n",
       "    </tr>\n",
       "  </thead>\n",
       "  <tbody>\n",
       "    <tr>\n",
       "      <th>0</th>\n",
       "      <td>Video Players &amp; Editors</td>\n",
       "      <td>5.008850</td>\n",
       "    </tr>\n",
       "    <tr>\n",
       "      <th>1</th>\n",
       "      <td>Board</td>\n",
       "      <td>4.939353</td>\n",
       "    </tr>\n",
       "    <tr>\n",
       "      <th>2</th>\n",
       "      <td>Casino</td>\n",
       "      <td>4.755973</td>\n",
       "    </tr>\n",
       "    <tr>\n",
       "      <th>3</th>\n",
       "      <td>Word</td>\n",
       "      <td>4.703300</td>\n",
       "    </tr>\n",
       "    <tr>\n",
       "      <th>4</th>\n",
       "      <td>Role Playing</td>\n",
       "      <td>4.698225</td>\n",
       "    </tr>\n",
       "    <tr>\n",
       "      <th>5</th>\n",
       "      <td>Weather</td>\n",
       "      <td>4.499798</td>\n",
       "    </tr>\n",
       "    <tr>\n",
       "      <th>6</th>\n",
       "      <td>Communication</td>\n",
       "      <td>4.460425</td>\n",
       "    </tr>\n",
       "    <tr>\n",
       "      <th>7</th>\n",
       "      <td>Beauty</td>\n",
       "      <td>4.311429</td>\n",
       "    </tr>\n",
       "    <tr>\n",
       "      <th>8</th>\n",
       "      <td>Music &amp; Audio</td>\n",
       "      <td>4.299316</td>\n",
       "    </tr>\n",
       "    <tr>\n",
       "      <th>9</th>\n",
       "      <td>House &amp; Home</td>\n",
       "      <td>4.255781</td>\n",
       "    </tr>\n",
       "    <tr>\n",
       "      <th>10</th>\n",
       "      <td>Adventure</td>\n",
       "      <td>4.245502</td>\n",
       "    </tr>\n",
       "    <tr>\n",
       "      <th>11</th>\n",
       "      <td>Photography</td>\n",
       "      <td>3.982180</td>\n",
       "    </tr>\n",
       "    <tr>\n",
       "      <th>12</th>\n",
       "      <td>Simulation</td>\n",
       "      <td>3.963692</td>\n",
       "    </tr>\n",
       "    <tr>\n",
       "      <th>13</th>\n",
       "      <td>Card</td>\n",
       "      <td>3.750944</td>\n",
       "    </tr>\n",
       "    <tr>\n",
       "      <th>14</th>\n",
       "      <td>Puzzle</td>\n",
       "      <td>3.541972</td>\n",
       "    </tr>\n",
       "    <tr>\n",
       "      <th>15</th>\n",
       "      <td>Travel &amp; Local</td>\n",
       "      <td>3.510817</td>\n",
       "    </tr>\n",
       "    <tr>\n",
       "      <th>16</th>\n",
       "      <td>Casual</td>\n",
       "      <td>3.510220</td>\n",
       "    </tr>\n",
       "    <tr>\n",
       "      <th>17</th>\n",
       "      <td>Strategy</td>\n",
       "      <td>3.431335</td>\n",
       "    </tr>\n",
       "    <tr>\n",
       "      <th>18</th>\n",
       "      <td>Trivia</td>\n",
       "      <td>3.356484</td>\n",
       "    </tr>\n",
       "    <tr>\n",
       "      <th>19</th>\n",
       "      <td>Educational</td>\n",
       "      <td>3.325514</td>\n",
       "    </tr>\n",
       "    <tr>\n",
       "      <th>20</th>\n",
       "      <td>Action</td>\n",
       "      <td>3.123452</td>\n",
       "    </tr>\n",
       "    <tr>\n",
       "      <th>21</th>\n",
       "      <td>Libraries &amp; Demo</td>\n",
       "      <td>3.001667</td>\n",
       "    </tr>\n",
       "    <tr>\n",
       "      <th>22</th>\n",
       "      <td>Events</td>\n",
       "      <td>2.958505</td>\n",
       "    </tr>\n",
       "    <tr>\n",
       "      <th>23</th>\n",
       "      <td>Comics</td>\n",
       "      <td>2.747781</td>\n",
       "    </tr>\n",
       "    <tr>\n",
       "      <th>24</th>\n",
       "      <td>Parenting</td>\n",
       "      <td>2.728873</td>\n",
       "    </tr>\n",
       "    <tr>\n",
       "      <th>25</th>\n",
       "      <td>News &amp; Magazines</td>\n",
       "      <td>2.669897</td>\n",
       "    </tr>\n",
       "    <tr>\n",
       "      <th>26</th>\n",
       "      <td>Racing</td>\n",
       "      <td>2.552928</td>\n",
       "    </tr>\n",
       "    <tr>\n",
       "      <th>27</th>\n",
       "      <td>Music</td>\n",
       "      <td>2.434954</td>\n",
       "    </tr>\n",
       "    <tr>\n",
       "      <th>28</th>\n",
       "      <td>Personalization</td>\n",
       "      <td>1.688500</td>\n",
       "    </tr>\n",
       "  </tbody>\n",
       "</table>\n",
       "</div>"
      ],
      "text/plain": [
       "                   category     price\n",
       "0   Video Players & Editors  5.008850\n",
       "1                     Board  4.939353\n",
       "2                    Casino  4.755973\n",
       "3                      Word  4.703300\n",
       "4              Role Playing  4.698225\n",
       "5                   Weather  4.499798\n",
       "6             Communication  4.460425\n",
       "7                    Beauty  4.311429\n",
       "8             Music & Audio  4.299316\n",
       "9              House & Home  4.255781\n",
       "10                Adventure  4.245502\n",
       "11              Photography  3.982180\n",
       "12               Simulation  3.963692\n",
       "13                     Card  3.750944\n",
       "14                   Puzzle  3.541972\n",
       "15           Travel & Local  3.510817\n",
       "16                   Casual  3.510220\n",
       "17                 Strategy  3.431335\n",
       "18                   Trivia  3.356484\n",
       "19              Educational  3.325514\n",
       "20                   Action  3.123452\n",
       "21         Libraries & Demo  3.001667\n",
       "22                   Events  2.958505\n",
       "23                   Comics  2.747781\n",
       "24                Parenting  2.728873\n",
       "25         News & Magazines  2.669897\n",
       "26                   Racing  2.552928\n",
       "27                    Music  2.434954\n",
       "28          Personalization  1.688500"
      ]
     },
     "execution_count": 116,
     "metadata": {},
     "output_type": "execute_result"
    }
   ],
   "source": [
    "clean"
   ]
  },
  {
   "cell_type": "code",
   "execution_count": 122,
   "id": "satellite-thunder",
   "metadata": {},
   "outputs": [
    {
     "data": {
      "image/png": "[encoded data removed]",
      "text/plain": [
       "<Figure size 1440x720 with 1 Axes>"
      ]
     },
     "metadata": {
      "needs_background": "light"
     },
     "output_type": "display_data"
    }
   ],
   "source": [
    "plt.figure(figsize = (20,10))\n",
    "sns.barplot(x = \"price\", y = \"category\", data = clean[:10], palette=\"rocket\")\n",
    "plt.xticks(fontsize='14', rotation = 30)\n",
    "plt.yticks(fontsize='14')\n",
    "plt.xlabel(\"\")\n",
    "plt.ylabel(\"\")\n",
    "\n",
    "plt.title(\"Average price per category\", fontsize = \"20\")\n",
    "plt.show()"
   ]
  },
  {
   "cell_type": "markdown",
   "id": "marine-motel",
   "metadata": {},
   "source": [
    "### In app "
   ]
  },
  {
   "cell_type": "code",
   "execution_count": 95,
   "id": "affecting-departure",
   "metadata": {},
   "outputs": [
    {
     "name": "stdout",
     "output_type": "stream",
     "text": [
      "+-----------------------+-------------------+\n",
      "|               category|          avg_price|\n",
      "+-----------------------+-------------------+\n",
      "|                   navi|          5000000.0|\n",
      "|              RK PAY\"\"\"|            10159.0|\n",
      "| 마음을 다스리는 글\"\")\"|             4106.0|\n",
      "|           far high.\"\"\"|             3725.0|\n",
      "|         고양이 쇼핑몰\"|             2108.0|\n",
      "|     \"\" mp3 Collection\"|              864.0|\n",
      "|             коментарі\"|              184.0|\n",
      "|                  aves\"|               89.0|\n",
      "|       CHEER UP(CCC)\"\"\"|               15.0|\n",
      "|           Quick notes\"|               15.0|\n",
      "|              Samurai]\"|               10.0|\n",
      "|                Medical| 0.7113878752016787|\n",
      "|           Role Playing| 0.3118415148830376|\n",
      "|                 Sports|0.22647534903029273|\n",
      "|               Strategy|0.22537505574945607|\n",
      "|      Books & Reference| 0.1932279309715364|\n",
      "|              Adventure|0.17967864487626678|\n",
      "|            Educational|0.17183981511271385|\n",
      "|                  Board|0.16982376960560902|\n",
      "|              Education|0.16324400691787733|\n",
      "+-----------------------+-------------------+\n",
      "only showing top 20 rows\n",
      "\n"
     ]
    }
   ],
   "source": [
    "inAppPurch = sqlContext.sql(\"\"\"SELECT category, AVG(Price) AS avg_price\n",
    "                                    FROM viewPlot \n",
    "                                    GROUP BY category\n",
    "                                    ORDER BY avg_price DESC\"\"\")\n",
    "inAppPurch.show()"
   ]
  },
  {
   "cell_type": "code",
   "execution_count": 96,
   "id": "modular-ecology",
   "metadata": {},
   "outputs": [],
   "source": [
    "inAppPurchPandas = inAppPurch.toPandas()"
   ]
  },
  {
   "cell_type": "code",
   "execution_count": 97,
   "id": "electoral-reception",
   "metadata": {},
   "outputs": [
    {
     "data": {
      "text/html": [
       "<div>\n",
       "<style scoped>\n",
       "    .dataframe tbody tr th:only-of-type {\n",
       "        vertical-align: middle;\n",
       "    }\n",
       "\n",
       "    .dataframe tbody tr th {\n",
       "        vertical-align: top;\n",
       "    }\n",
       "\n",
       "    .dataframe thead th {\n",
       "        text-align: right;\n",
       "    }\n",
       "</style>\n",
       "<table border=\"1\" class=\"dataframe\">\n",
       "  <thead>\n",
       "    <tr style=\"text-align: right;\">\n",
       "      <th></th>\n",
       "      <th>category</th>\n",
       "      <th>avg_price</th>\n",
       "    </tr>\n",
       "  </thead>\n",
       "  <tbody>\n",
       "    <tr>\n",
       "      <th>0</th>\n",
       "      <td>navi</td>\n",
       "      <td>5000000.0</td>\n",
       "    </tr>\n",
       "    <tr>\n",
       "      <th>1</th>\n",
       "      <td>RK PAY\"\"\"</td>\n",
       "      <td>10159.0</td>\n",
       "    </tr>\n",
       "    <tr>\n",
       "      <th>2</th>\n",
       "      <td>마음을 다스리는 글\"\")\"</td>\n",
       "      <td>4106.0</td>\n",
       "    </tr>\n",
       "    <tr>\n",
       "      <th>3</th>\n",
       "      <td>far high.\"\"\"</td>\n",
       "      <td>3725.0</td>\n",
       "    </tr>\n",
       "    <tr>\n",
       "      <th>4</th>\n",
       "      <td>고양이 쇼핑몰\"</td>\n",
       "      <td>2108.0</td>\n",
       "    </tr>\n",
       "    <tr>\n",
       "      <th>...</th>\n",
       "      <td>...</td>\n",
       "      <td>...</td>\n",
       "    </tr>\n",
       "    <tr>\n",
       "      <th>73</th>\n",
       "      <td>com.ud.parchis.publi</td>\n",
       "      <td>NaN</td>\n",
       "    </tr>\n",
       "    <tr>\n",
       "      <th>74</th>\n",
       "      <td>com.vsoapp.polls</td>\n",
       "      <td>NaN</td>\n",
       "    </tr>\n",
       "    <tr>\n",
       "      <th>75</th>\n",
       "      <td>com.bilgeyatirimci</td>\n",
       "      <td>NaN</td>\n",
       "    </tr>\n",
       "    <tr>\n",
       "      <th>76</th>\n",
       "      <td>com.blogspot.formyandroid.oknoty.widgets</td>\n",
       "      <td>NaN</td>\n",
       "    </tr>\n",
       "    <tr>\n",
       "      <th>77</th>\n",
       "      <td>com.hdibharatnews.app</td>\n",
       "      <td>NaN</td>\n",
       "    </tr>\n",
       "  </tbody>\n",
       "</table>\n",
       "<p>78 rows × 2 columns</p>\n",
       "</div>"
      ],
      "text/plain": [
       "                                    category  avg_price\n",
       "0                                       navi  5000000.0\n",
       "1                                  RK PAY\"\"\"    10159.0\n",
       "2                             마음을 다스리는 글\"\")\"     4106.0\n",
       "3                               far high.\"\"\"     3725.0\n",
       "4                                   고양이 쇼핑몰\"     2108.0\n",
       "..                                       ...        ...\n",
       "73                      com.ud.parchis.publi        NaN\n",
       "74                          com.vsoapp.polls        NaN\n",
       "75                        com.bilgeyatirimci        NaN\n",
       "76  com.blogspot.formyandroid.oknoty.widgets        NaN\n",
       "77                     com.hdibharatnews.app        NaN\n",
       "\n",
       "[78 rows x 2 columns]"
      ]
     },
     "execution_count": 97,
     "metadata": {},
     "output_type": "execute_result"
    }
   ],
   "source": [
    "inAppPurchPandas\n"
   ]
  },
  {
   "cell_type": "code",
   "execution_count": 98,
   "id": "civilian-planning",
   "metadata": {},
   "outputs": [
    {
     "ename": "KeyError",
     "evalue": "'InAppPurchases'",
     "output_type": "error",
     "traceback": [
      "\u001b[0;31m---------------------------------------------------------------------------\u001b[0m",
      "\u001b[0;31mKeyError\u001b[0m                                  Traceback (most recent call last)",
      "\u001b[0;32m/usr/local/lib/python3.8/dist-packages/pandas/core/indexes/base.py\u001b[0m in \u001b[0;36mget_loc\u001b[0;34m(self, key, method, tolerance)\u001b[0m\n\u001b[1;32m   3079\u001b[0m             \u001b[0;32mtry\u001b[0m\u001b[0;34m:\u001b[0m\u001b[0;34m\u001b[0m\u001b[0;34m\u001b[0m\u001b[0m\n\u001b[0;32m-> 3080\u001b[0;31m                 \u001b[0;32mreturn\u001b[0m \u001b[0mself\u001b[0m\u001b[0;34m.\u001b[0m\u001b[0m_engine\u001b[0m\u001b[0;34m.\u001b[0m\u001b[0mget_loc\u001b[0m\u001b[0;34m(\u001b[0m\u001b[0mcasted_key\u001b[0m\u001b[0;34m)\u001b[0m\u001b[0;34m\u001b[0m\u001b[0;34m\u001b[0m\u001b[0m\n\u001b[0m\u001b[1;32m   3081\u001b[0m             \u001b[0;32mexcept\u001b[0m \u001b[0mKeyError\u001b[0m \u001b[0;32mas\u001b[0m \u001b[0merr\u001b[0m\u001b[0;34m:\u001b[0m\u001b[0;34m\u001b[0m\u001b[0;34m\u001b[0m\u001b[0m\n",
      "\u001b[0;32mpandas/_libs/index.pyx\u001b[0m in \u001b[0;36mpandas._libs.index.IndexEngine.get_loc\u001b[0;34m()\u001b[0m\n",
      "\u001b[0;32mpandas/_libs/index.pyx\u001b[0m in \u001b[0;36mpandas._libs.index.IndexEngine.get_loc\u001b[0;34m()\u001b[0m\n",
      "\u001b[0;32mpandas/_libs/hashtable_class_helper.pxi\u001b[0m in \u001b[0;36mpandas._libs.hashtable.PyObjectHashTable.get_item\u001b[0;34m()\u001b[0m\n",
      "\u001b[0;32mpandas/_libs/hashtable_class_helper.pxi\u001b[0m in \u001b[0;36mpandas._libs.hashtable.PyObjectHashTable.get_item\u001b[0;34m()\u001b[0m\n",
      "\u001b[0;31mKeyError\u001b[0m: 'InAppPurchases'",
      "\nThe above exception was the direct cause of the following exception:\n",
      "\u001b[0;31mKeyError\u001b[0m                                  Traceback (most recent call last)",
      "\u001b[0;32m<ipython-input-98-4c366b072d38>\u001b[0m in \u001b[0;36m<module>\u001b[0;34m\u001b[0m\n\u001b[0;32m----> 1\u001b[0;31m \u001b[0mpd\u001b[0m\u001b[0;34m.\u001b[0m\u001b[0mvalue_counts\u001b[0m\u001b[0;34m(\u001b[0m\u001b[0minAppPurchPandas\u001b[0m\u001b[0;34m[\u001b[0m\u001b[0;34m\"InAppPurchases\"\u001b[0m\u001b[0;34m]\u001b[0m\u001b[0;34m)\u001b[0m\u001b[0;34m.\u001b[0m\u001b[0mplot\u001b[0m\u001b[0;34m.\u001b[0m\u001b[0mbar\u001b[0m\u001b[0;34m(\u001b[0m\u001b[0mcolor\u001b[0m \u001b[0;34m=\u001b[0m \u001b[0;34m\"orange\"\u001b[0m\u001b[0;34m)\u001b[0m\u001b[0;34m\u001b[0m\u001b[0;34m\u001b[0m\u001b[0m\n\u001b[0m\u001b[1;32m      2\u001b[0m \u001b[0mplt\u001b[0m\u001b[0;34m.\u001b[0m\u001b[0mxticks\u001b[0m\u001b[0;34m(\u001b[0m\u001b[0mrotation\u001b[0m \u001b[0;34m=\u001b[0m \u001b[0;36m0\u001b[0m\u001b[0;34m)\u001b[0m\u001b[0;34m\u001b[0m\u001b[0;34m\u001b[0m\u001b[0m\n",
      "\u001b[0;32m/usr/local/lib/python3.8/dist-packages/pandas/core/frame.py\u001b[0m in \u001b[0;36m__getitem__\u001b[0;34m(self, key)\u001b[0m\n\u001b[1;32m   3022\u001b[0m             \u001b[0;32mif\u001b[0m \u001b[0mself\u001b[0m\u001b[0;34m.\u001b[0m\u001b[0mcolumns\u001b[0m\u001b[0;34m.\u001b[0m\u001b[0mnlevels\u001b[0m \u001b[0;34m>\u001b[0m \u001b[0;36m1\u001b[0m\u001b[0;34m:\u001b[0m\u001b[0;34m\u001b[0m\u001b[0;34m\u001b[0m\u001b[0m\n\u001b[1;32m   3023\u001b[0m                 \u001b[0;32mreturn\u001b[0m \u001b[0mself\u001b[0m\u001b[0;34m.\u001b[0m\u001b[0m_getitem_multilevel\u001b[0m\u001b[0;34m(\u001b[0m\u001b[0mkey\u001b[0m\u001b[0;34m)\u001b[0m\u001b[0;34m\u001b[0m\u001b[0;34m\u001b[0m\u001b[0m\n\u001b[0;32m-> 3024\u001b[0;31m             \u001b[0mindexer\u001b[0m \u001b[0;34m=\u001b[0m \u001b[0mself\u001b[0m\u001b[0;34m.\u001b[0m\u001b[0mcolumns\u001b[0m\u001b[0;34m.\u001b[0m\u001b[0mget_loc\u001b[0m\u001b[0;34m(\u001b[0m\u001b[0mkey\u001b[0m\u001b[0;34m)\u001b[0m\u001b[0;34m\u001b[0m\u001b[0;34m\u001b[0m\u001b[0m\n\u001b[0m\u001b[1;32m   3025\u001b[0m             \u001b[0;32mif\u001b[0m \u001b[0mis_integer\u001b[0m\u001b[0;34m(\u001b[0m\u001b[0mindexer\u001b[0m\u001b[0;34m)\u001b[0m\u001b[0;34m:\u001b[0m\u001b[0;34m\u001b[0m\u001b[0;34m\u001b[0m\u001b[0m\n\u001b[1;32m   3026\u001b[0m                 \u001b[0mindexer\u001b[0m \u001b[0;34m=\u001b[0m \u001b[0;34m[\u001b[0m\u001b[0mindexer\u001b[0m\u001b[0;34m]\u001b[0m\u001b[0;34m\u001b[0m\u001b[0;34m\u001b[0m\u001b[0m\n",
      "\u001b[0;32m/usr/local/lib/python3.8/dist-packages/pandas/core/indexes/base.py\u001b[0m in \u001b[0;36mget_loc\u001b[0;34m(self, key, method, tolerance)\u001b[0m\n\u001b[1;32m   3080\u001b[0m                 \u001b[0;32mreturn\u001b[0m \u001b[0mself\u001b[0m\u001b[0;34m.\u001b[0m\u001b[0m_engine\u001b[0m\u001b[0;34m.\u001b[0m\u001b[0mget_loc\u001b[0m\u001b[0;34m(\u001b[0m\u001b[0mcasted_key\u001b[0m\u001b[0;34m)\u001b[0m\u001b[0;34m\u001b[0m\u001b[0;34m\u001b[0m\u001b[0m\n\u001b[1;32m   3081\u001b[0m             \u001b[0;32mexcept\u001b[0m \u001b[0mKeyError\u001b[0m \u001b[0;32mas\u001b[0m \u001b[0merr\u001b[0m\u001b[0;34m:\u001b[0m\u001b[0;34m\u001b[0m\u001b[0;34m\u001b[0m\u001b[0m\n\u001b[0;32m-> 3082\u001b[0;31m                 \u001b[0;32mraise\u001b[0m \u001b[0mKeyError\u001b[0m\u001b[0;34m(\u001b[0m\u001b[0mkey\u001b[0m\u001b[0;34m)\u001b[0m \u001b[0;32mfrom\u001b[0m \u001b[0merr\u001b[0m\u001b[0;34m\u001b[0m\u001b[0;34m\u001b[0m\u001b[0m\n\u001b[0m\u001b[1;32m   3083\u001b[0m \u001b[0;34m\u001b[0m\u001b[0m\n\u001b[1;32m   3084\u001b[0m         \u001b[0;32mif\u001b[0m \u001b[0mtolerance\u001b[0m \u001b[0;32mis\u001b[0m \u001b[0;32mnot\u001b[0m \u001b[0;32mNone\u001b[0m\u001b[0;34m:\u001b[0m\u001b[0;34m\u001b[0m\u001b[0;34m\u001b[0m\u001b[0m\n",
      "\u001b[0;31mKeyError\u001b[0m: 'InAppPurchases'"
     ]
    }
   ],
   "source": [
    "pd.value_counts(inAppPurchPandas[\"InAppPurchases\"]).plot.bar(color = \"orange\")\n",
    "plt.xticks(rotation = 0)"
   ]
  },
  {
   "cell_type": "markdown",
   "id": "sapphire-pacific",
   "metadata": {},
   "source": [
    "## Correlation Matrix"
   ]
  },
  {
   "cell_type": "code",
   "execution_count": 123,
   "id": "incredible-mailman",
   "metadata": {},
   "outputs": [
    {
     "data": {
      "image/png": "[encoded data removed]",
      "text/plain": [
       "<Figure size 1440x1440 with 2 Axes>"
      ]
     },
     "metadata": {
      "needs_background": "light"
     },
     "output_type": "display_data"
    }
   ],
   "source": [
    "col_names = [x[0] for x in data.dtypes if x[1]==\"int\" or x[1]==\"float\" or x[1] == \"double\"]\n",
    "features = data.select(col_names).rdd.map(lambda row: row[0:])\n",
    "corr_mat = Statistics.corr(features, method=\"spearman\")\n",
    "corr_df = pd.DataFrame(corr_mat)\n",
    "corr_df.index, corr_df.columns = col_names, col_names\n",
    "plt.figure(figsize = (20,20))\n",
    "correlation = sns.heatmap(corr_df, cmap='BuPu', vmin=-1, vmax=1,annot=True, linewidths=.7)"
   ]
  },
  {
   "cell_type": "markdown",
   "id": "together-gallery",
   "metadata": {},
   "source": [
    "# Analisi target variable per Classificazione"
   ]
  },
  {
   "cell_type": "code",
   "execution_count": null,
   "id": "according-intelligence",
   "metadata": {},
   "outputs": [],
   "source": [
    "data = spark.read.option(\"header\",True).option('inferSchema', True).json(\"cleaned_v3.json\")"
   ]
  },
  {
   "cell_type": "code",
   "execution_count": null,
   "id": "expired-volunteer",
   "metadata": {},
   "outputs": [],
   "source": [
    "def getAppeal(value):\n",
    "    \"\"\"\n",
    "    Defines target variable\n",
    "    \"\"\"\n",
    "    if float(value) >= 3.5:\n",
    "        return 1\n",
    "    else:\n",
    "        return 0\n",
    "    \n",
    "data = data.withColumn(\"Appeal\", udf(getAppeal)(\"Rating\"))\n",
    "data = data.withColumn(\"Appeal\", data[\"Appeal\"].cast(IntegerType()))"
   ]
  },
  {
   "cell_type": "code",
   "execution_count": null,
   "id": "inappropriate-shooting",
   "metadata": {},
   "outputs": [],
   "source": [
    "data.groupBy(\"Appeal\").count().show()\n"
   ]
  },
  {
   "cell_type": "code",
   "execution_count": null,
   "id": "unavailable-relay",
   "metadata": {},
   "outputs": [],
   "source": [
    "data.createOrReplaceTempView(\"viewPlot\")\n",
    "appeal_count = sqlContext.sql(\"\"\"SELECT Appeal, COUNT(*) as count_Appeal \n",
    "                                    FROM viewPlot \n",
    "                                    GROUP BY Appeal \n",
    "                                    ORDER BY count_Appeal desc\"\"\")\n",
    "appealPlot = appeal_count.toPandas()"
   ]
  },
  {
   "cell_type": "code",
   "execution_count": null,
   "id": "particular-inspector",
   "metadata": {},
   "outputs": [],
   "source": [
    "plt.figure(figsize = (6,5))\n",
    "sns.barplot(x = \"Appeal\", y = \"count_Appeal\", data  = appealPlot, palette=\"tab20b\")\n",
    "plt.xticks(rotation=0, fontsize='10')\n",
    "plt.yticks(fontsize='13')\n",
    "plt.ylabel(\"Number of app\")\n",
    "plt.title(\"Appeal distribution\")\n",
    "plt.show()"
   ]
  }
 ],
 "metadata": {
  "kernelspec": {
   "display_name": "Python 3",
   "language": "python",
   "name": "python3"
  },
  "language_info": {
   "codemirror_mode": {
    "name": "ipython",
    "version": 3
   },
   "file_extension": ".py",
   "mimetype": "text/x-python",
   "name": "python",
   "nbconvert_exporter": "python",
   "pygments_lexer": "ipython3",
   "version": "3.8.10"
  }
 },
 "nbformat": 4,
 "nbformat_minor": 5
}
