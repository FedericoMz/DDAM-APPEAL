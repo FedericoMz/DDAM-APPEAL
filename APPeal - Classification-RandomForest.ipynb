{
 "cells": [
  {
   "cell_type": "markdown",
   "id": "processed-picture",
   "metadata": {},
   "source": [
    "# APPeal: Classificazione"
   ]
  },
  {
   "cell_type": "markdown",
   "id": "photographic-garbage",
   "metadata": {},
   "source": [
    "## Import librerie e inizializzazione dello Spark Context"
   ]
  },
  {
   "cell_type": "code",
   "execution_count": 1,
   "id": "russian-blocking",
   "metadata": {},
   "outputs": [],
   "source": [
    "from pyspark.ml import Pipeline\n",
    "\n",
    "from pyspark.ml.classification import DecisionTreeClassifier, RandomForestClassifier\n",
    "from pyspark.mllib.tree import DecisionTree as DT\n",
    "from pyspark.mllib.tree import DecisionTreeModel, LabeledPoint\n",
    "\n",
    "from pyspark.ml.feature import IndexToString, StringIndexer, VectorIndexer\n",
    "from pyspark.ml.feature import MinMaxScaler\n",
    "from pyspark.ml.feature import VectorAssembler\n",
    "\n",
    "from pyspark.ml.evaluation import MulticlassClassificationEvaluator\n",
    "from pyspark.ml.evaluation import BinaryClassificationEvaluator\n",
    "from pyspark.mllib.evaluation import BinaryClassificationMetrics\n",
    "from pyspark.ml.tuning import ParamGridBuilder, CrossValidator\n",
    "\n",
    "from pyspark.sql import SparkSession\n",
    "from pyspark.sql.functions import udf\n",
    "from pyspark.sql import Row\n",
    "\n",
    "from pyspark.sql.types import IntegerType\n",
    "\n",
    "import os\n",
    "import numpy as np\n",
    "import seaborn as sns\n",
    "import matplotlib.pyplot as plt\n",
    "import random\n",
    "import pandas as pd\n",
    "\n",
    "from sklearn import neighbors\n",
    "\n",
    "from pyspark import SparkContext\n",
    "sc = SparkContext.getOrCreate()\n",
    "\n",
    "spark = SparkSession.builder.getOrCreate()"
   ]
  },
  {
   "cell_type": "code",
   "execution_count": 2,
   "id": "invalid-grocery",
   "metadata": {},
   "outputs": [],
   "source": [
    "data = spark.read.option(\"header\",True).option('inferSchema', True).json(\"no_outlier_KMeans_v3.json\")"
   ]
  },
  {
   "cell_type": "code",
   "execution_count": 3,
   "id": "norwegian-russell",
   "metadata": {},
   "outputs": [
    {
     "name": "stdout",
     "output_type": "stream",
     "text": [
      "root\n",
      " |-- AdSupported: boolean (nullable = true)\n",
      " |-- Age: long (nullable = true)\n",
      " |-- AppId: string (nullable = true)\n",
      " |-- AppName: string (nullable = true)\n",
      " |-- Category: string (nullable = true)\n",
      " |-- DeveloperId: string (nullable = true)\n",
      " |-- EditorsChoice: boolean (nullable = true)\n",
      " |-- InApp: boolean (nullable = true)\n",
      " |-- Installs: double (nullable = true)\n",
      " |-- Installs_stdev_from_Category: double (nullable = true)\n",
      " |-- MinAndroid: double (nullable = true)\n",
      " |-- Price: double (nullable = true)\n",
      " |-- Price_stdev_from_Category: double (nullable = true)\n",
      " |-- Quarter_of_Release: string (nullable = true)\n",
      " |-- Rating: double (nullable = true)\n",
      " |-- Rating_Reviews_Ratio: double (nullable = true)\n",
      " |-- Rating_stdev_from_Category: double (nullable = true)\n",
      " |-- Reviews_Installs_Ratio: double (nullable = true)\n",
      " |-- Size: double (nullable = true)\n",
      " |-- Size_stdev_from_Category: double (nullable = true)\n",
      " |-- Year_of_Last_Update: long (nullable = true)\n",
      " |-- Year_of_Release: long (nullable = true)\n",
      " |-- distances: double (nullable = true)\n",
      " |-- features_cluster: struct (nullable = true)\n",
      " |    |-- indices: array (nullable = true)\n",
      " |    |    |-- element: long (containsNull = true)\n",
      " |    |-- size: long (nullable = true)\n",
      " |    |-- type: long (nullable = true)\n",
      " |    |-- values: array (nullable = true)\n",
      " |    |    |-- element: double (containsNull = true)\n",
      " |-- nReviews: double (nullable = true)\n",
      " |-- nReviews_stdev_from_Category: double (nullable = true)\n",
      " |-- position: long (nullable = true)\n",
      " |-- prediction: long (nullable = true)\n",
      " |-- standardized: struct (nullable = true)\n",
      " |    |-- indices: array (nullable = true)\n",
      " |    |    |-- element: long (containsNull = true)\n",
      " |    |-- size: long (nullable = true)\n",
      " |    |-- type: long (nullable = true)\n",
      " |    |-- values: array (nullable = true)\n",
      " |    |    |-- element: double (containsNull = true)\n",
      "\n"
     ]
    }
   ],
   "source": [
    "data.printSchema()"
   ]
  },
  {
   "cell_type": "markdown",
   "id": "continental-depth",
   "metadata": {},
   "source": [
    "### definizione funzioni"
   ]
  },
  {
   "cell_type": "code",
   "execution_count": 4,
   "id": "brutal-asset",
   "metadata": {},
   "outputs": [],
   "source": [
    "def getAppeal(value):\n",
    "    \"\"\"\n",
    "    Defines target variable\n",
    "    \"\"\"\n",
    "    if float(value) >= 3.5:\n",
    "        return 1\n",
    "    else:\n",
    "        return 0\n",
    "\n",
    "def save_clf(clf, version, directory='models'):\n",
    "    \"\"\"\n",
    "    Saves classifier to models directory\n",
    "    \"\"\"\n",
    "    if not os.path.isdir(directory):\n",
    "        os.mkdir(directory)\n",
    "        print(f\"Directory {directory} created\")\n",
    "    \n",
    "    filename = f'{directory}/{str(type(clf)).split(\".\")[-1][:-2]}-{version}.model'\n",
    "\n",
    "    if not os.path.isfile(filename):\n",
    "        clf.save(filename)\n",
    "        print('Model saved:', filename)\n",
    "    else:\n",
    "        print('File already exists:', filename)\n",
    "        \n",
    "def load_clf(base, filename, directory='models'):\n",
    "    \"\"\"\n",
    "    Loads MLib clfier\n",
    "    \"\"\"\n",
    "    file = os.path.join(directory, filename)\n",
    "\n",
    "    clf = base.load(file)\n",
    "    print('Model loaded:', filename)\n",
    "    return clf\n",
    "\n",
    "def grid_search(train, model, paramGrid):\n",
    "    crossval = CrossValidator(estimator=model,\n",
    "                      estimatorParamMaps=paramGrid,\n",
    "                      evaluator=BinaryClassificationEvaluator().setLabelCol(\"Appeal\"),\n",
    "                      numFolds=5)  # imposto a 5 per la 5-fold cv\n",
    "    fit_model = crossval.fit(train)\n",
    "    print(fit_model)\n",
    "    bestModel = fit_model.bestModel\n",
    "    return bestModel\n",
    "\n",
    "def get_params(model, params):\n",
    "    \"\"\"\n",
    "    Prints model parameters\n",
    "    \"\"\"\n",
    "    extract_par = model.extractParamMap()\n",
    "    best_parameters = {}\n",
    "    for par in params:\n",
    "        if model.hasParam(par):\n",
    "            best_parameters[par] = extract_par[model.getParam(par)]\n",
    "    print(best_parameters)\n",
    "\n",
    "def scale_data(data):\n",
    "    scaler = MinMaxScaler(inputCol='features_classification',outputCol='features_standardized')\n",
    "    scaled = scaler.fit(data).transform(data)\n",
    "    return scaled\n",
    "\n",
    "def my_confusion_matrix(cfm):\n",
    "    group_names = ['TN','FP','FN','TP']\n",
    "\n",
    "    group_counts = [\"{0:0.0f}\".format(value) for value in\n",
    "                cfm.flatten()]\n",
    "\n",
    "    group_percentages = [\"{0:.2%}\".format(value) for value in\n",
    "                     cfm.flatten()/np.sum(cfm)]\n",
    "\n",
    "    labels = [f\"{v1}\\n{v2}\\n{v3}\" for v1, v2, v3 in\n",
    "          zip(group_names,group_counts,group_percentages)]\n",
    "\n",
    "    labels = np.asarray(labels).reshape(2,2)\n",
    "\n",
    "    sns.heatmap(cfm, annot=labels, fmt=\"\", cmap='Blues')\n",
    "    plt.ylabel('True Label', fontsize=12)\n",
    "    plt.xlabel('Predicted',fontsize=12)\n",
    "\n",
    "def evaluate(predictions):\n",
    "    \"\"\"\n",
    "    Prints evaluation metrics\n",
    "    Plots confusion matrix\n",
    "    \"\"\"\n",
    " \n",
    "    evaluator = BinaryClassificationEvaluator(labelCol=\"Appeal\")\n",
    "    AUC  = evaluator.evaluate(predictions)\n",
    "    \n",
    "    cm = predictions.crosstab(\"prediction\", \"Appeal\").toPandas()\n",
    "    \n",
    "    # calculate \n",
    "    TP = cm[\"1\"][0]\n",
    "    FP = cm[\"0\"][0]\n",
    "    TN = cm[\"0\"][1]\n",
    "    FN = cm[\"1\"][1]\n",
    "    Accuracy = (TP+TN)/(TP+FP+TN+FN)\n",
    "    Recall = TP/(TP+FN)\n",
    "    Specificity = TN/(TN+FP)\n",
    "    Precision = TP/(TP+FP)\n",
    "    F1 = 2 * ((Precision * Recall)/(Precision + Recall))\n",
    "    print(\"Model Performance Measure\")\n",
    "    print (\"Accuracy = %0.2f\" %Accuracy )\n",
    "    print (\"Specificity = %0.2f\" %Specificity )\n",
    "    print (\"Precision = %0.2f\" %Precision )\n",
    "    print (\"Recall = %0.2f\" %Recall )\n",
    "    print (\"F1-score = %0.2f\" %F1 )\n",
    "    \n",
    "    print(\"AUC = %.2f\" % AUC)\n",
    "    \n",
    "    my_confusion_matrix(np.array([[TN, FP],[ FN, TP]]))\n",
    "\n",
    "from sklearn.metrics import roc_curve, auc\n",
    "\n",
    "def plot_ROC(predictions):\n",
    "    PredAndLabels           = predictions.select(\"probability\", \"Appeal\")\n",
    "    PredAndLabels_collect   = PredAndLabels.collect()\n",
    "    PredAndLabels_list      = [(float(i[0][0]), 1.0-float(i[1])) for i in PredAndLabels_collect]\n",
    "    PredAndLabels           = sc.parallelize(PredAndLabels_list)\n",
    "\n",
    "    metrics = BinaryClassificationMetrics(PredAndLabels)\n",
    "\n",
    "    # Area under ROC\n",
    "    print(\"Area under ROC = %.2f\" % metrics.areaUnderROC)\n",
    "\n",
    "    # Visualization\n",
    "    FPR = dict()                                                        # FPR: False Positive Rate\n",
    "    tpr = dict()                                                        # TPR: True Positive Rate\n",
    "    roc_auc = dict()\n",
    "\n",
    "    y_test = [i[1] for i in PredAndLabels_list]\n",
    "    y_score = [i[0] for i in PredAndLabels_list]\n",
    "\n",
    "    fpr, tpr, _ = roc_curve(y_test, y_score)\n",
    "    roc_auc = auc(fpr, tpr)\n",
    "\n",
    "    plt.figure(figsize=(5,4))\n",
    "    plt.plot(fpr, tpr, label='ROC curve (area = %0.2f)' % roc_auc)\n",
    "    plt.plot([0, 1], [0, 1], 'k--')\n",
    "    plt.xlim([0.0, 1.0])\n",
    "    plt.ylim([0.0, 1.05])\n",
    "    plt.xlabel('False Positive Rate')\n",
    "    plt.ylabel('True Positive Rate')\n",
    "    plt.title('ROC Curve')\n",
    "    plt.legend(loc=\"lower right\")\n",
    "    plt.show()"
   ]
  },
  {
   "cell_type": "markdown",
   "id": "enclosed-transmission",
   "metadata": {},
   "source": [
    "### Preprocessing: binarizzazione di rating ed eliminazione features rimaste dal clustering"
   ]
  },
  {
   "cell_type": "code",
   "execution_count": 5,
   "id": "czech-responsibility",
   "metadata": {},
   "outputs": [],
   "source": [
    "data = data.withColumn(\"Appeal\", udf(getAppeal)(\"Rating\"))"
   ]
  },
  {
   "cell_type": "code",
   "execution_count": 6,
   "id": "comfortable-beauty",
   "metadata": {},
   "outputs": [],
   "source": [
    "data = data.withColumn(\"Quarter_of_Release\", data[\"Quarter_of_Release\"].cast(IntegerType()))\n",
    "data = data.withColumn(\"Appeal\", data[\"Appeal\"].cast(IntegerType()))"
   ]
  },
  {
   "cell_type": "code",
   "execution_count": 7,
   "id": "demographic-affect",
   "metadata": {},
   "outputs": [],
   "source": [
    "data = data.drop(\"Rating\",\"prediction\", \"features_cluster\", \"distances\", \"standardized\", \"position\")"
   ]
  },
  {
   "cell_type": "markdown",
   "id": "focal-archives",
   "metadata": {},
   "source": [
    "### Assembling"
   ]
  },
  {
   "cell_type": "code",
   "execution_count": 8,
   "id": "marine-logan",
   "metadata": {},
   "outputs": [],
   "source": [
    "features_classification = [\"Age\",\"EditorsChoice\",\n",
    "                           \"AdSupported\",\"InApp\", \"Price\",\n",
    "                           \"Year_of_Release\",\"Quarter_of_Release\",\n",
    "                           \"Price_stdev_from_Category\", \"Year_of_Last_Update\"]\n",
    "\n",
    "#,\n",
    "                          #\"Installs_stdev_from_Category\"] #, \"Installs\"]\n",
    "    "
   ]
  },
  {
   "cell_type": "code",
   "execution_count": 9,
   "id": "continuous-natural",
   "metadata": {},
   "outputs": [],
   "source": [
    "from pyspark.ml.feature import VectorAssembler\n",
    "\n",
    "assembler = VectorAssembler(inputCols=features_classification, outputCol='features_classification')\n",
    "\n",
    "data = assembler.transform(data)"
   ]
  },
  {
   "cell_type": "code",
   "execution_count": 10,
   "id": "awful-crash",
   "metadata": {},
   "outputs": [],
   "source": [
    "#data.select('features_classification').show(10)"
   ]
  },
  {
   "cell_type": "markdown",
   "id": "latest-component",
   "metadata": {},
   "source": [
    "## Classification Pipeline"
   ]
  },
  {
   "cell_type": "markdown",
   "id": "divided-crack",
   "metadata": {},
   "source": [
    "### Train-test split"
   ]
  },
  {
   "cell_type": "code",
   "execution_count": 11,
   "id": "specified-guyana",
   "metadata": {
    "scrolled": true
   },
   "outputs": [],
   "source": [
    "# trasformo la colonna della target variable -> recupero l'indice                                       \n",
    "train, test = data.randomSplit([0.7, 0.3], seed=0)"
   ]
  },
  {
   "cell_type": "code",
   "execution_count": 12,
   "id": "signal-julian",
   "metadata": {
    "scrolled": true
   },
   "outputs": [
    {
     "name": "stdout",
     "output_type": "stream",
     "text": [
      "+---------------------------------+-----------------------+------+\n",
      "|                          AppName|features_classification|Appeal|\n",
      "+---------------------------------+-----------------------+------+\n",
      "|당뇨모리 (당뇨병환자를 위한 차...|   (9,[5,6,7,8],[201...|     0|\n",
      "|                  A-1 Towing Inc.|   (9,[5,6,7,8],[201...|     0|\n",
      "|             ThermoAnalytics U...|   (9,[5,6,7,8],[201...|     0|\n",
      "|             2021 Pool and Spa...|   (9,[5,6,7,8],[202...|     0|\n",
      "|             2021 AGA-Tallahas...|   (9,[5,6,7,8],[202...|     0|\n",
      "+---------------------------------+-----------------------+------+\n",
      "only showing top 5 rows\n",
      "\n"
     ]
    }
   ],
   "source": [
    "train.select('AppName', 'features_classification', 'Appeal').show(5)"
   ]
  },
  {
   "cell_type": "markdown",
   "id": "incomplete-belfast",
   "metadata": {},
   "source": [
    "### Hyperparameter tuning"
   ]
  },
  {
   "cell_type": "code",
   "execution_count": 13,
   "id": "qualified-canvas",
   "metadata": {},
   "outputs": [],
   "source": [
    "# set the model\n",
    "model = RandomForestClassifier(labelCol=\"Appeal\", featuresCol=\"features_classification\", numTrees=300)\n",
    "\n",
    "# set parameter grid\n",
    "paramGrid = ParamGridBuilder()\\\n",
    "    .addGrid(model.impurity, [\"entropy\", \"gini\"])\\\n",
    "    .addGrid(model.maxDepth, [2, 5, 10])\\\n",
    "    .addGrid(model.maxBins, [2, 5, 10])\\\n",
    "    .build()\n",
    "    "
   ]
  },
  {
   "cell_type": "code",
   "execution_count": 14,
   "id": "medical-console",
   "metadata": {},
   "outputs": [
    {
     "name": "stdout",
     "output_type": "stream",
     "text": [
      "CrossValidatorModel_4332bd5ef473\n",
      "CPU times: user 3.74 s, sys: 1.55 s, total: 5.3 s\n",
      "Wall time: 7h 20min 2s\n"
     ]
    }
   ],
   "source": [
    "%%time\n",
    "bestModel = grid_search(train, model, paramGrid)"
   ]
  },
  {
   "cell_type": "code",
   "execution_count": 15,
   "id": "martial-fever",
   "metadata": {},
   "outputs": [
    {
     "data": {
      "text/plain": [
       "RandomForestClassificationModel: uid=RandomForestClassifier_e32436007b77, numTrees=300, numClasses=2, numFeatures=9"
      ]
     },
     "execution_count": 15,
     "metadata": {},
     "output_type": "execute_result"
    }
   ],
   "source": [
    "bestModel"
   ]
  },
  {
   "cell_type": "code",
   "execution_count": 21,
   "id": "organic-match",
   "metadata": {},
   "outputs": [
    {
     "name": "stdout",
     "output_type": "stream",
     "text": [
      "{'impurity': 'gini', 'maxDepth': 5, 'maxBins': 15}\n"
     ]
    }
   ],
   "source": [
    "params = ['impurity', 'maxDepth', 'maxBins']\n",
    "get_params(bestModel, params)"
   ]
  },
  {
   "cell_type": "code",
   "execution_count": 13,
   "id": "constitutional-article",
   "metadata": {},
   "outputs": [],
   "source": [
    "bestModel = RandomForestClassifier(labelCol=\"Appeal\", featuresCol=\"features_classification\", \n",
    "                                   impurity='gini', maxDepth=5, maxBins=15)\\\n",
    "            .fit(train)"
   ]
  },
  {
   "cell_type": "code",
   "execution_count": 42,
   "id": "bored-aberdeen",
   "metadata": {},
   "outputs": [
    {
     "name": "stdout",
     "output_type": "stream",
     "text": [
      "Model saved: models/RandomForestClassificationModel-0.model\n"
     ]
    }
   ],
   "source": [
    "save_clf(bestModel, 0)"
   ]
  },
  {
   "cell_type": "markdown",
   "id": "early-travel",
   "metadata": {},
   "source": [
    "### Evaluation"
   ]
  },
  {
   "cell_type": "code",
   "execution_count": 14,
   "id": "pediatric-continent",
   "metadata": {
    "scrolled": true
   },
   "outputs": [],
   "source": [
    "predictions = bestModel.transform(test)"
   ]
  },
  {
   "cell_type": "code",
   "execution_count": 15,
   "id": "breeding-indication",
   "metadata": {},
   "outputs": [
    {
     "name": "stdout",
     "output_type": "stream",
     "text": [
      "0 Age\n",
      "1 EditorsChoice\n",
      "2 AdSupported\n",
      "3 InApp\n",
      "4 Price\n",
      "5 Year_of_Release\n",
      "6 Quarter_of_Release\n",
      "7 Price_stdev_from_Category\n",
      "8 Year_of_Last_Update\n"
     ]
    }
   ],
   "source": [
    "for i in range(len(features_classification)):\n",
    "    print (i, features_classification[i])"
   ]
  },
  {
   "cell_type": "code",
   "execution_count": 16,
   "id": "damaged-sheffield",
   "metadata": {},
   "outputs": [
    {
     "data": {
      "text/html": [
       "<div>\n",
       "<style scoped>\n",
       "    .dataframe tbody tr th:only-of-type {\n",
       "        vertical-align: middle;\n",
       "    }\n",
       "\n",
       "    .dataframe tbody tr th {\n",
       "        vertical-align: top;\n",
       "    }\n",
       "\n",
       "    .dataframe thead th {\n",
       "        text-align: right;\n",
       "    }\n",
       "</style>\n",
       "<table border=\"1\" class=\"dataframe\">\n",
       "  <thead>\n",
       "    <tr style=\"text-align: right;\">\n",
       "      <th></th>\n",
       "      <th>idx</th>\n",
       "      <th>name</th>\n",
       "      <th>score</th>\n",
       "    </tr>\n",
       "  </thead>\n",
       "  <tbody>\n",
       "    <tr>\n",
       "      <th>5</th>\n",
       "      <td>5</td>\n",
       "      <td>Year_of_Release</td>\n",
       "      <td>0.437712</td>\n",
       "    </tr>\n",
       "    <tr>\n",
       "      <th>2</th>\n",
       "      <td>2</td>\n",
       "      <td>AdSupported</td>\n",
       "      <td>0.296788</td>\n",
       "    </tr>\n",
       "    <tr>\n",
       "      <th>3</th>\n",
       "      <td>3</td>\n",
       "      <td>InApp</td>\n",
       "      <td>0.170577</td>\n",
       "    </tr>\n",
       "    <tr>\n",
       "      <th>8</th>\n",
       "      <td>8</td>\n",
       "      <td>Year_of_Last_Update</td>\n",
       "      <td>0.063676</td>\n",
       "    </tr>\n",
       "    <tr>\n",
       "      <th>7</th>\n",
       "      <td>7</td>\n",
       "      <td>Price_stdev_from_Category</td>\n",
       "      <td>0.025511</td>\n",
       "    </tr>\n",
       "    <tr>\n",
       "      <th>4</th>\n",
       "      <td>4</td>\n",
       "      <td>Price</td>\n",
       "      <td>0.002819</td>\n",
       "    </tr>\n",
       "    <tr>\n",
       "      <th>0</th>\n",
       "      <td>0</td>\n",
       "      <td>Age</td>\n",
       "      <td>0.002283</td>\n",
       "    </tr>\n",
       "    <tr>\n",
       "      <th>6</th>\n",
       "      <td>6</td>\n",
       "      <td>Quarter_of_Release</td>\n",
       "      <td>0.000571</td>\n",
       "    </tr>\n",
       "    <tr>\n",
       "      <th>1</th>\n",
       "      <td>1</td>\n",
       "      <td>EditorsChoice</td>\n",
       "      <td>0.000063</td>\n",
       "    </tr>\n",
       "  </tbody>\n",
       "</table>\n",
       "</div>"
      ],
      "text/plain": [
       "   idx                       name     score\n",
       "5    5            Year_of_Release  0.437712\n",
       "2    2                AdSupported  0.296788\n",
       "3    3                      InApp  0.170577\n",
       "8    8        Year_of_Last_Update  0.063676\n",
       "7    7  Price_stdev_from_Category  0.025511\n",
       "4    4                      Price  0.002819\n",
       "0    0                        Age  0.002283\n",
       "6    6         Quarter_of_Release  0.000571\n",
       "1    1              EditorsChoice  0.000063"
      ]
     },
     "execution_count": 16,
     "metadata": {},
     "output_type": "execute_result"
    }
   ],
   "source": [
    "def extractFeatureImportance(featureImp, dataset, featuresCol):\n",
    "    list_extract = []\n",
    "    for i in dataset.schema[featuresCol].metadata[\"ml_attr\"][\"attrs\"]:\n",
    "        list_extract = list_extract + dataset.schema[featuresCol].metadata[\"ml_attr\"][\"attrs\"][i]\n",
    "    varlist = pd.DataFrame(list_extract)\n",
    "    varlist['score'] = varlist['idx'].apply(lambda x: featureImp[x])\n",
    "    return(varlist.sort_values('score', ascending = False))\n",
    "\n",
    "extractFeatureImportance(bestModel.featureImportances, test, 'features_classification')"
   ]
  },
  {
   "cell_type": "code",
   "execution_count": 45,
   "id": "valued-sheet",
   "metadata": {
    "scrolled": true
   },
   "outputs": [
    {
     "name": "stdout",
     "output_type": "stream",
     "text": [
      "Model Performance Measure\n",
      "Accuracy = 0.64\n",
      "Specificity = 0.81\n",
      "Precision = 0.65\n",
      "Recall = 0.43\n",
      "F1-score = 0.51\n",
      "AUC = 0.68\n"
     ]
    },
    {
     "data": {
      "image/png": "[encoded data removed]",
      "text/plain": [
       "<Figure size 432x288 with 2 Axes>"
      ]
     },
     "metadata": {
      "needs_background": "light"
     },
     "output_type": "display_data"
    }
   ],
   "source": [
    "evaluate(predictions)"
   ]
  },
  {
   "cell_type": "code",
   "execution_count": 46,
   "id": "pursuant-anaheim",
   "metadata": {},
   "outputs": [
    {
     "name": "stdout",
     "output_type": "stream",
     "text": [
      "Area under ROC = 0.68\n"
     ]
    },
    {
     "data": {
      "image/png": "[encoded data removed]",
      "text/plain": [
       "<Figure size 360x288 with 1 Axes>"
      ]
     },
     "metadata": {
      "needs_background": "light"
     },
     "output_type": "display_data"
    }
   ],
   "source": [
    "plot_ROC(predictions)"
   ]
  },
  {
   "cell_type": "code",
   "execution_count": 47,
   "id": "devoted-norwegian",
   "metadata": {},
   "outputs": [
    {
     "name": "stdout",
     "output_type": "stream",
     "text": [
      "+-----------+------+\n",
      "|AdSupported| count|\n",
      "+-----------+------+\n",
      "|       true|556556|\n",
      "|      false|382333|\n",
      "+-----------+------+\n",
      "\n"
     ]
    }
   ],
   "source": [
    "data[data['Appeal'] == 1].groupBy('AdSupported').count().show()"
   ]
  },
  {
   "cell_type": "code",
   "execution_count": null,
   "id": "numerical-musician",
   "metadata": {},
   "outputs": [],
   "source": [
    "data[data['Appeal'] == 1].groupBy('AdSupported').count().show()"
   ]
  }
 ],
 "metadata": {
  "kernelspec": {
   "display_name": "Python 3",
   "language": "python",
   "name": "python3"
  },
  "language_info": {
   "codemirror_mode": {
    "name": "ipython",
    "version": 3
   },
   "file_extension": ".py",
   "mimetype": "text/x-python",
   "name": "python",
   "nbconvert_exporter": "python",
   "pygments_lexer": "ipython3",
   "version": "3.8.10"
  }
 },
 "nbformat": 4,
 "nbformat_minor": 5
}
